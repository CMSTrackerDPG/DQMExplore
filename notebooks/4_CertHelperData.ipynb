{
 "cells": [
  {
   "cell_type": "markdown",
   "id": "0",
   "metadata": {},
   "source": [
    "# Certification Helper Data Manager\n",
    "This notebook showcases the use of the `CHRunData` object."
   ]
  },
  {
   "cell_type": "code",
   "execution_count": null,
   "id": "1",
   "metadata": {},
   "outputs": [],
   "source": [
    "import dqmexplore as dqme"
   ]
  },
  {
   "cell_type": "code",
   "execution_count": null,
   "id": "2",
   "metadata": {},
   "outputs": [],
   "source": [
    "# Load data from CertHelper website if its not already stored locally in a JSON file\n",
    "url = \"https://certhelper.web.cern.ch/certify/allRunsRefRuns/\"\n",
    "outfilename = \"../jsons/ch_refruns.json\"\n",
    "dqme.datautils.loadFromWeb(url, outfilename)"
   ]
  },
  {
   "cell_type": "code",
   "execution_count": null,
   "id": "3",
   "metadata": {},
   "outputs": [],
   "source": [
    "# Data is loaded in through JSON, but if it is missing, it can be loaded from CertHelper directly\n",
    "CHData = dqme.certhelper.CHRunData(\n",
    "    \"../jsons/ch_refruns.json\",\n",
    ")"
   ]
  },
  {
   "cell_type": "code",
   "execution_count": null,
   "id": "4",
   "metadata": {},
   "outputs": [],
   "source": [
    "CHData.getRun(380238)"
   ]
  },
  {
   "cell_type": "code",
   "execution_count": null,
   "id": "5",
   "metadata": {},
   "outputs": [],
   "source": [
    "filters = {\n",
    "    # \"run_number\": (313118, 377251),\n",
    "    # \"reference_run_number\": 312727,\n",
    "    # \"run_reconstruction_type\": \"express\",\n",
    "    # \"reference_run_reconstruction_type\": \"express\",\n",
    "    \"dataset\": \"/PromptReco*\"\n",
    "}\n",
    "\n",
    "CHData.applyFilter(filters=filters)"
   ]
  },
  {
   "cell_type": "code",
   "execution_count": null,
   "id": "6",
   "metadata": {},
   "outputs": [],
   "source": [
    "CHData.RunsDF"
   ]
  }
 ],
 "metadata": {
  "kernelspec": {
   "display_name": "venv",
   "language": "python",
   "name": "python3"
  },
  "language_info": {
   "codemirror_mode": {
    "name": "ipython",
    "version": 3
   },
   "file_extension": ".py",
   "mimetype": "text/x-python",
   "name": "python",
   "nbconvert_exporter": "python",
   "pygments_lexer": "ipython3",
   "version": "3.11.11"
  }
 },
 "nbformat": 4,
 "nbformat_minor": 5
}
