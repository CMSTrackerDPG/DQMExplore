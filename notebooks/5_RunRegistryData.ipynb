{
 "cells": [
  {
   "cell_type": "markdown",
   "id": "0",
   "metadata": {},
   "source": [
    "# Run Registry Data\n",
    "This notebook showcases the use of the Run Registry api, `runregistry`, and serves as an example of how to use it in order to programmatically produce a RR json. You can also product this json through the website by following this link:\n",
    "https://cmsrunregistry.web.cern.ch/json_portal\n",
    "\n",
    "Read the documentation found in the `runregistry_api_client` GitHub repository for more information on how to authenticate: https://github.com/cms-DQM/runregistry_api_client"
   ]
  },
  {
   "cell_type": "code",
   "execution_count": null,
   "id": "1",
   "metadata": {},
   "outputs": [],
   "source": [
    "import runregistry\n",
    "import itertools\n",
    "runregistry.setup(\"production\")"
   ]
  },
  {
   "cell_type": "code",
   "execution_count": null,
   "id": "2",
   "metadata": {},
   "outputs": [],
   "source": [
    "# Getting run registry data example\n",
    "filter = {\n",
    "    \"run_number\": {\n",
    "        # \"and\": [{\">=\": 365753}, {\"<=\": 373710}]\n",
    "        \"and\": [{\"=\": 365753}]\n",
    "    },\n",
    "    \"class\": {\n",
    "        \"and\": [{\"=\": \"Collisions23\"}]\n",
    "    },\n",
    "    \"tracker-strip\": \"GOOD\",\n",
    "    \"tracker-pixel\": \"GOOD\",\n",
    "}\n",
    "\n",
    "runs = runregistry.get_runs(filter=filter)\n",
    "runs"
   ]
  },
  {
   "cell_type": "code",
   "execution_count": null,
   "id": "3",
   "metadata": {},
   "outputs": [],
   "source": [
    "# Generating json\n",
    "json_logic = {\n",
    "  \"and\": [\n",
    "    {\"==\": [{\"var\": \"lumisection.rr.tracker-pixel\"}, \"GOOD\"        ]},\n",
    "    {\"==\": [{\"var\": \"lumisection.rr.tracker-strip\"}, \"GOOD\"        ]},\n",
    "    {\"==\": [{\"var\": \"lumisection.rr.tracker-track\"}, \"GOOD\"        ]},\n",
    "  ]\n",
    "}\n",
    "\n",
    "generated_jsons = {}\n",
    "datasets = [\"/Express/Collisions{}/DQM\"]\n",
    "# years = [\"2022\", \"2023\", \"2024\"]\n",
    "years = [\"2022\"]\n",
    "for dataset, year in itertools.product(datasets, years):\n",
    "    dataset_name = dataset.format(year)\n",
    "    print(dataset_name) \n",
    "    generated_jsons[dataset_name] = {\n",
    "        **runregistry.create_json(\n",
    "            json_logic=json_logic, \n",
    "            dataset_name_filter=dataset.format(year)\n",
    "        )[\"generated_json\"]\n",
    "    }"
   ]
  },
  {
   "cell_type": "code",
   "execution_count": null,
   "id": "4",
   "metadata": {},
   "outputs": [],
   "source": [
    "jsons = {}\n",
    "for key, val in generated_jsons.items():\n",
    "    jsons = {**jsons, **val}\n",
    "jsons"
   ]
  },
  {
   "cell_type": "code",
   "execution_count": null,
   "id": "5",
   "metadata": {},
   "outputs": [],
   "source": [
    "import json\n",
    "import os\n",
    "\n",
    "json_fname = \"Express-Collisions-2022_pixel-strip-track-good.json\"\n",
    "outfile_path = \"../jsons\"\n",
    "\n",
    "with open (os.path.join(outfile_path, json_fname), \"w\") as outfile:\n",
    "    json.dump(jsons, outfile)"
   ]
  }
 ],
 "metadata": {
  "kernelspec": {
   "display_name": "Python 3",
   "language": "python",
   "name": "python3"
  },
  "language_info": {
   "codemirror_mode": {
    "name": "ipython",
    "version": 3
   },
   "file_extension": ".py",
   "mimetype": "text/x-python",
   "name": "python",
   "nbconvert_exporter": "python",
   "pygments_lexer": "ipython3",
   "version": "3.9.12"
  }
 },
 "nbformat": 4,
 "nbformat_minor": 5
}
