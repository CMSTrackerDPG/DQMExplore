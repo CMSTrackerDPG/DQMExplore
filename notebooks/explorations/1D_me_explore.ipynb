{
 "cells": [
  {
   "cell_type": "markdown",
   "id": "0",
   "metadata": {},
   "source": [
    "# 1D ME Exploration\n",
    "- This notebook is intended to study the 1D Monitoring Elements at the LS level. \n",
    "- A requirements.txt is included to install the libraries used here.\n",
    "- Note that in order to run the OMS API you will need to have a json file with the client ID (API_CLIENT_ID) and secret (API_CLIENT_SECRET). For more information on how to obtain these, you can take a look at these slides: https://indico.cern.ch/event/997758/contributions/4191705/attachments/2173881/3670409/OMS%20CERN%20OpenID%20migration%20-%20update.pdf\n"
   ]
  },
  {
   "cell_type": "markdown",
   "id": "1",
   "metadata": {},
   "source": [
    "# Setup"
   ]
  },
  {
   "cell_type": "code",
   "execution_count": null,
   "id": "2",
   "metadata": {},
   "outputs": [],
   "source": [
    "#!pip install cmsdials --upgrade\n",
    "#or\n",
    "#!pip install cmsdials=1.1.0"
   ]
  },
  {
   "cell_type": "code",
   "execution_count": null,
   "id": "3",
   "metadata": {},
   "outputs": [],
   "source": [
    "#!pip show cmsdials"
   ]
  },
  {
   "cell_type": "code",
   "execution_count": null,
   "id": "4",
   "metadata": {},
   "outputs": [],
   "source": [
    "#DIALS API\n",
    "from cmsdials import Dials\n",
    "import cmsdials\n",
    "from cmsdials.auth.bearer import Credentials\n",
    "from cmsdials.filters import LumisectionHistogram1DFilters, FileIndexFilters, RunFilters, LumisectionHistogram2DFilters\n",
    "creds = Credentials.from_creds_file()\n",
    "dials = Dials(creds)"
   ]
  },
  {
   "cell_type": "code",
   "execution_count": null,
   "id": "5",
   "metadata": {},
   "outputs": [],
   "source": [
    "# OMS API\n",
    "import json\n",
    "import os\n",
    "\n",
    "with open(\"clientid.json\", \"r\") as file:\n",
    "    secrets = json.load(file)\n",
    "\n",
    "os.environ[\"API_CLIENT_ID\"] = secrets[\"API_CLIENT_ID\"]\n",
    "os.environ[\"API_CLIENT_SECRET\"] = secrets[\"API_CLIENT_SECRET\"]\n",
    "\n",
    "import oms\n",
    "\n",
    "oms_fetch = oms.oms_fetch()"
   ]
  },
  {
   "cell_type": "code",
   "execution_count": null,
   "id": "6",
   "metadata": {},
   "outputs": [],
   "source": [
    "import numpy as np\n",
    "import pandas as pd\n",
    "import ipywidgets as widgets\n",
    "import matplotlib.pyplot as plt\n",
    "from IPython.display import display\n",
    "import utils\n",
    "import plotly.express as px\n",
    "import plotly.graph_objects as go\n",
    "import math\n",
    "from statistics import mean\n",
    "from statistics import stdev\n",
    "import plotly.io as pio\n",
    "\n",
    "#%%matplotlib notebook"
   ]
  },
  {
   "cell_type": "markdown",
   "id": "7",
   "metadata": {},
   "source": [
    "# Functions"
   ]
  },
  {
   "cell_type": "code",
   "execution_count": null,
   "id": "8",
   "metadata": {},
   "outputs": [],
   "source": [
    "def data_1d_me(run_number, me, regex):\n",
    "    \"\"\"\n",
    "    Filters data by parameters below, sorts by ls_number, and converts it into numpy arrays\n",
    "    \n",
    "    Parameters:\n",
    "    run_number, me, regex\n",
    "    \n",
    "    Returns:\n",
    "    data, ls, x_min, x_max, x_bin, y_min, y_max\n",
    "    \"\"\"\n",
    "    data = dials.h1d.list_all(\n",
    "        LumisectionHistogram1DFilters(\n",
    "            run_number=run_number,\n",
    "            dataset__regex=regex,\n",
    "            me=me,\n",
    "        )\n",
    "    )\n",
    "    df = pd.DataFrame([x.__dict__ for x in data.results])\n",
    "    sorted_df = df.sort_values(by='ls_number')\n",
    "    \n",
    "    ls = sorted_df['ls_number']\n",
    "    histbins = sorted_df[\"data\"].to_numpy(dtype=np.ndarray)\n",
    "    histbins = np.array([np.array(x) for x in histbins])\n",
    "\n",
    "    x_min = sorted_df[\"x_min\"][0]\n",
    "    x_max = sorted_df[\"x_max\"][0]\n",
    "    x_bin = sorted_df[\"x_bin\"][0]\n",
    "    y_min = histbins.min()\n",
    "    y_max = histbins.max()\n",
    "    \n",
    "    return histbins, ls, x_min, x_max, x_bin, y_min, y_max\n"
   ]
  },
  {
   "cell_type": "code",
   "execution_count": null,
   "id": "9",
   "metadata": {},
   "outputs": [],
   "source": [
    "def calc_peak(histbins):\n",
    "    \"\"\"\n",
    "    Find the maximum height of the histogram \n",
    "    \"\"\"\n",
    "    peak = max(np.max(np.histogram(hist)[1]) for hist in histbins)\n",
    "    \n",
    "    return peak"
   ]
  },
  {
   "cell_type": "code",
   "execution_count": null,
   "id": "10",
   "metadata": {},
   "outputs": [],
   "source": [
    "def plot_1d_me(histbins, histbins_ref, me_name, run_number, ref_run, write=False):\n",
    "    \"\"\"\n",
    "    Plot the 1D ME , with a dropdown menu to switch between current and ref run\n",
    "    \n",
    "    Parameters:\n",
    "    histbins: data array for current run\n",
    "    histbins_ref: data array for ref run\n",
    "    run_number: current run\n",
    "    ref_run: reference run\n",
    "    write: Boolean (choose to save the plot to an html file or not)\n",
    "    \n",
    "    Returns:\n",
    "    plots figure\n",
    "    writes it to an html file if write=True\n",
    "    \"\"\"\n",
    "    \n",
    "    max_peak = max(calc_peak(histbins), calc_peak(histbins_ref))\n",
    "\n",
    "    # Create initial figure\n",
    "    fig = go.Figure()\n",
    "\n",
    "    # Add initial traces\n",
    "    fig.add_trace(go.Bar(\n",
    "        x=np.linspace(x_min, x_max, int(x_bin)),\n",
    "        y=histbins[0],\n",
    "        name='Current Run',\n",
    "        visible=True\n",
    "    ))\n",
    "\n",
    "    fig.add_trace(go.Bar(\n",
    "        x=np.linspace(x_min, x_max, int(x_bin)),\n",
    "        y=histbins_ref[0],\n",
    "        name='Reference Run',\n",
    "        visible=False\n",
    "    ))\n",
    "\n",
    "    # Function to create slider steps\n",
    "    def create_steps(data):\n",
    "        steps = []\n",
    "        for i in range(len(data)):\n",
    "            step = dict(\n",
    "                method=\"update\",\n",
    "                args=[{\"y\": [data[i]]}],\n",
    "                label=str(i)\n",
    "            )\n",
    "            steps.append(step)\n",
    "        return steps\n",
    "\n",
    "    # Create sliders for both datasets\n",
    "    slider_histbins = [dict(\n",
    "        active=0,\n",
    "        currentvalue={\"prefix\": \"LS: \"},\n",
    "        pad={\"t\": 50},\n",
    "        steps=create_steps(histbins)\n",
    "    )]\n",
    "\n",
    "    slider_histbins_ref = [dict(\n",
    "        active=0,\n",
    "        currentvalue={\"prefix\": \"LS: \"},\n",
    "        pad={\"t\": 50},\n",
    "        steps=create_steps(histbins_ref)\n",
    "    )]\n",
    "\n",
    "\n",
    "    y_axis_range = [0, max_peak]\n",
    "\n",
    "\n",
    "    # Initial slider configuration\n",
    "    fig.update_layout(\n",
    "        sliders=slider_histbins,\n",
    "        title=me_name,\n",
    "        xaxis_title=me_name.split('/')[-1],\n",
    "        yaxis_title='',\n",
    "        yaxis_range=y_axis_range\n",
    "    )\n",
    "\n",
    "    # Add dropdown to switch between Current Run and Reference Run\n",
    "    fig.update_layout(\n",
    "        updatemenus=[\n",
    "            dict(\n",
    "                buttons=list([\n",
    "                    dict(\n",
    "                        args=[{'visible': [True, False]}, {'sliders': slider_histbins}],\n",
    "                        label=\"Current Run \"+str(run_number),\n",
    "                        method=\"update\"\n",
    "                    ),\n",
    "                    dict(\n",
    "                        args=[{'visible': [False, True]}, {'sliders': slider_histbins_ref}],\n",
    "                        label=\"Reference Run \"+str(ref_run),\n",
    "                        method=\"update\"\n",
    "                    )\n",
    "                ]),\n",
    "                direction=\"down\",\n",
    "                showactive=True,\n",
    "            ),\n",
    "        ]\n",
    "    )\n",
    "\n",
    "    fig.show()\n",
    "    \n",
    "    if write:\n",
    "        html_content = pio.to_html(fig, include_plotlyjs='cdn')\n",
    "\n",
    "        # Write the HTML content to a file\n",
    "        name_hist = str(run_number)+'_'+me_name.split('/')[-1]+'.html' \n",
    "        with open(name_hist, 'w') as f:\n",
    "            f.write(html_content)"
   ]
  },
  {
   "cell_type": "code",
   "execution_count": null,
   "id": "11",
   "metadata": {},
   "outputs": [],
   "source": [
    "def plot_rate(hist, hist_ref, run_number, ref_run, x_axis, y_axis, title, write=False):\n",
    "    \n",
    "    plot = go.Figure()\n",
    "    custom_ticks = [x+1 for x in range(len(hist))]\n",
    "\n",
    "    plot.add_trace(go.Scatter(\n",
    "        x = list(range(len(hist))),\n",
    "        y = hist,\n",
    "        visible=True\n",
    "    ))\n",
    "\n",
    "    plot.add_trace(go.Scatter(\n",
    "        x = list(range(len(hist_ref))),\n",
    "        y = hist_ref,\n",
    "        visible=False\n",
    "    ))\n",
    "\n",
    "    # Add dropdown\n",
    "    plot.update_layout(\n",
    "        \n",
    "        title=title,\n",
    "        xaxis_title=x_axis,\n",
    "        yaxis_title=y_axis,\n",
    "        xaxis=dict(\n",
    "            tickvals=list(range(len(hist))),\n",
    "            ticktext=custom_ticks\n",
    "        ),\n",
    "        updatemenus=[\n",
    "            dict(\n",
    "                buttons=list([\n",
    "                    dict(\n",
    "                        args=[{'visible':[True, False]}],\n",
    "                        label=\"Current Run \"+ str(run_number),\n",
    "                        method=\"restyle\"\n",
    "                    ),\n",
    "                    dict(\n",
    "                        args=[{'visible':[False, True]}],\n",
    "                        label=\"Reference Run \"+ str(ref_run),\n",
    "                        method=\"restyle\"\n",
    "                    )\n",
    "                ]),\n",
    "                direction=\"down\",\n",
    "            ),\n",
    "        ]\n",
    "    )\n",
    "\n",
    "    plot.show()\n",
    "    \n",
    "    if write:\n",
    "        html_content = pio.to_html(plot, include_plotlyjs='cdn')\n",
    "\n",
    "        # Write the HTML content to a file\n",
    "        name_hist = str(run_number)+'_'+me_name.split('/')[-1]+'_'+title+'.html' \n",
    "        with open(name_hist, 'w') as f:\n",
    "            f.write(html_content)\n",
    "        #pio.write_html(fig, name_hist)"
   ]
  },
  {
   "cell_type": "code",
   "execution_count": null,
   "id": "12",
   "metadata": {},
   "outputs": [],
   "source": [
    "def get_oms_data(run_number):\n",
    "    \"\"\"\n",
    "    Get trigger rate from OMS as a df and convert it to numpy array\n",
    "    \n",
    "    Parameters:\n",
    "    run_number\n",
    "    \n",
    "    Returns:\n",
    "    trigger_rate: ZeroBias trigger rate\n",
    "    \"\"\"\n",
    "    extrafilter = dict(\n",
    "        attribute_name=\"dataset_name\",\n",
    "        value=\"ZeroBias\",\n",
    "        operator=\"EQ\",\n",
    "    )\n",
    "\n",
    "    attributes = [\n",
    "        'start_time', \n",
    "        'last_lumisection_number', \n",
    "        'rate', \n",
    "        'run_number',\n",
    "        'last_lumisection_in_run', \n",
    "        'first_lumisection_number', \n",
    "        'dataset_name',\n",
    "        'cms_active', \n",
    "        'events'\n",
    "    ]\n",
    "\n",
    "    omstrigger_json = oms.get_oms_data(\n",
    "        oms_fetch.omsapi, \n",
    "        'datasetrates', \n",
    "        run_number,\n",
    "        extrafilters=[extrafilter],\n",
    "        limit_entries = 2000\n",
    "    )\n",
    "\n",
    "    omstrigger_df = oms.oms_utils.makeDF(omstrigger_json)\n",
    "    trigger_rate = np.array(omstrigger_df[\"rate\"])\n",
    "\n",
    "    return trigger_rate\n"
   ]
  },
  {
   "cell_type": "code",
   "execution_count": null,
   "id": "13",
   "metadata": {},
   "outputs": [],
   "source": [
    "def calc_trends(histbins, ls, max_value, trigger_rate, norm = False):\n",
    "    \"\"\"\n",
    "    Calculates ~peak value, std error on mean, and list of empty LS.\n",
    "    Also normalises by trigger rate if norm=True\n",
    "    \n",
    "    Parameters:\n",
    "    histbins: data in the form of numpy array\n",
    "    ls: list of lumisections\n",
    "    max_value: maximum value of the quantity being measured along x-axis\n",
    "    trigger_rate: np array obtained from oms\n",
    "    norm: Boolean (default False)\n",
    "    \n",
    "    Returns:\n",
    "    list_means: position of peak. It's not precise because the distributions are not Gaussian\n",
    "    list_std: standard error on mean\n",
    "    list_good_ls: non-zero LS\n",
    "    empty_ls: \n",
    "    \"\"\"\n",
    "    list_means = [] #peak\n",
    "    list_std= []\n",
    "    list_good_ls = []\n",
    "    empty_ls = []\n",
    "    good_trigger = []\n",
    "    for i in range(len(histbins)):\n",
    "        ls_num = ls[i]\n",
    "        # Calculate Mean and Std Error on Mean\n",
    "        \n",
    "        if any(histbins[i]):\n",
    "            n_bins = len(histbins[i])\n",
    "            actual_values = np.linspace(0, max_value, n_bins, endpoint=True) \n",
    "            \n",
    "            peak_value = np.average(actual_values, weights=histbins[i]) #needs modification to get actual peak?? Fit a Landau/Langaus and get the MPV\n",
    "            std_dev = stdev(histbins[i])\n",
    "            sem = std_dev / np.sqrt(n_bins) # standard error on mean = (standard deviation)/sqrt(n)\n",
    "            \n",
    "            list_good_ls.append(ls_num)\n",
    "            list_means.append(peak_value)\n",
    "            list_std.append(sem) \n",
    "            good_trigger.append(trigger_rate[i])\n",
    "        else:\n",
    "            peak_value =0\n",
    "            std_dev = 0\n",
    "            empty_ls.append(ls_num)\n",
    "        \n",
    "    if norm:\n",
    "        \n",
    "        list_means = np.divide(list_means, good_trigger)\n",
    "        list_std = np.divide(list_std, good_trigger) \n",
    "        \n",
    "\n",
    "    return list_means, list_std, list_good_ls, empty_ls"
   ]
  },
  {
   "cell_type": "code",
   "execution_count": null,
   "id": "14",
   "metadata": {},
   "outputs": [],
   "source": [
    "def plot_trends(list_raw, list_norm, list_good_ls, title, me_name, runnb, write=False):\n",
    "\n",
    "    plot = go.Figure()\n",
    "    custom_ticks = [x for x in list_good_ls]\n",
    "    plot.add_trace(go.Scatter(\n",
    "        x = list(range(len(list_raw))),\n",
    "        y = list_raw,\n",
    "        visible=True\n",
    "    ))\n",
    "\n",
    "    plot.add_trace(go.Scatter(\n",
    "        x = list(range(len(list_norm))),\n",
    "        y = list_norm,\n",
    "        visible=False\n",
    "    ))\n",
    "\n",
    "\n",
    "    # Add dropdown\n",
    "    plot.update_layout(\n",
    "        title=title+\", \"+me_name+\", Run: \"+str(runnb),\n",
    "        xaxis_title='LS',\n",
    "        xaxis=dict(\n",
    "            tickvals=list(range(len(list_good_ls))),\n",
    "            ticktext=custom_ticks\n",
    "        ),\n",
    "        updatemenus=[\n",
    "            dict(\n",
    "                buttons=list([\n",
    "                    dict(\n",
    "                        args=[{'visible':[True, False]}],\n",
    "                        label=\"Raw\",\n",
    "                        method=\"restyle\"\n",
    "                    ),\n",
    "                    dict(\n",
    "                        args=[{'visible':[False, True]}],\n",
    "                        label=\"Normalised\",\n",
    "                        method=\"restyle\"\n",
    "                    )\n",
    "                ]),\n",
    "                direction=\"down\",\n",
    "            ),\n",
    "        ]\n",
    "    )\n",
    "    \n",
    "    plot.show()\n",
    "    \n",
    "    if write:\n",
    "        html_content = pio.to_html(plot, include_plotlyjs='cdn')\n",
    "\n",
    "        # Write the HTML content to a file\n",
    "        name_hist = str(run_number)+'_'+me_name.split('/')[-1]+'_'+title+'.html' \n",
    "        with open(name_hist, 'w') as f:\n",
    "            f.write(html_content)\n",
    "        #pio.write_html(fig, name_hist)"
   ]
  },
  {
   "cell_type": "code",
   "execution_count": null,
   "id": "15",
   "metadata": {},
   "outputs": [],
   "source": []
  },
  {
   "cell_type": "markdown",
   "id": "16",
   "metadata": {},
   "source": [
    "# Define ME name, Current Run and Ref Run"
   ]
  },
  {
   "cell_type": "code",
   "execution_count": null,
   "id": "17",
   "metadata": {},
   "outputs": [],
   "source": [
    "me_name = \"PixelPhase1/Tracks/PXBarrel/charge_PXLayer_1\"\n",
    "run_number = 380238 \n",
    "ref_run = 379765\n",
    "\n",
    "regex = \"ZeroBias\""
   ]
  },
  {
   "cell_type": "code",
   "execution_count": null,
   "id": "18",
   "metadata": {},
   "outputs": [],
   "source": [
    "data_current, ls, x_min, x_max, x_bin, y_min, y_max = data_1d_me(run_number, me_name, regex)"
   ]
  },
  {
   "cell_type": "code",
   "execution_count": null,
   "id": "19",
   "metadata": {},
   "outputs": [],
   "source": [
    "data_ref, ls_ref, x_min_ref, x_max_ref, x_bin_ref, y_min_ref, y_max_ref = data_1d_me(ref_run, me_name, regex)"
   ]
  },
  {
   "cell_type": "markdown",
   "id": "20",
   "metadata": {},
   "source": [
    "# Plot the distributions"
   ]
  },
  {
   "cell_type": "code",
   "execution_count": null,
   "id": "21",
   "metadata": {},
   "outputs": [],
   "source": [
    "plot_1d_me(data_current, data_ref, me_name, run_number, ref_run, write=True )"
   ]
  },
  {
   "cell_type": "markdown",
   "id": "22",
   "metadata": {},
   "source": [
    "# Get Trigger Rate from OMS"
   ]
  },
  {
   "cell_type": "code",
   "execution_count": null,
   "id": "23",
   "metadata": {},
   "outputs": [],
   "source": []
  },
  {
   "cell_type": "code",
   "execution_count": null,
   "id": "24",
   "metadata": {},
   "outputs": [],
   "source": [
    "trigger_rate = get_oms_data(run_number)\n",
    "trigger_rate_ref = get_oms_data(ref_run)"
   ]
  },
  {
   "cell_type": "code",
   "execution_count": null,
   "id": "25",
   "metadata": {},
   "outputs": [],
   "source": []
  },
  {
   "cell_type": "code",
   "execution_count": null,
   "id": "26",
   "metadata": {},
   "outputs": [],
   "source": [
    "title = 'TriggerRate'\n",
    "y_axis ='Rate - Zero Bias'\n",
    "x_axis = 'LS'\n",
    "plot_rate(trigger_rate, trigger_rate_ref, run_number, ref_run, x_axis, y_axis, title, write=True)"
   ]
  },
  {
   "cell_type": "markdown",
   "id": "27",
   "metadata": {},
   "source": [
    "# Calculate Mean, Std Error on Mean and empty LS list"
   ]
  },
  {
   "cell_type": "code",
   "execution_count": null,
   "id": "28",
   "metadata": {},
   "outputs": [],
   "source": []
  },
  {
   "cell_type": "code",
   "execution_count": null,
   "id": "29",
   "metadata": {},
   "outputs": [],
   "source": [
    "max_value_charge = 80000 \n",
    "list_means, list_std, list_good_ls, empty_ls = calc_trends(data_current, ls, max_value_charge, trigger_rate)\n",
    "list_means_norm, list_std_norm, list_good_ls, empty_ls = calc_trends(data_current, ls, max_value_charge, trigger_rate, norm=True)"
   ]
  },
  {
   "cell_type": "code",
   "execution_count": null,
   "id": "30",
   "metadata": {},
   "outputs": [],
   "source": [
    "empty_ls"
   ]
  },
  {
   "cell_type": "code",
   "execution_count": null,
   "id": "31",
   "metadata": {},
   "outputs": [],
   "source": [
    "title='MeanValue'\n",
    "\n",
    "plot_trends(list_means, list_means_norm, list_good_ls, title, me_name, run_number, write=True)"
   ]
  },
  {
   "cell_type": "code",
   "execution_count": null,
   "id": "32",
   "metadata": {},
   "outputs": [],
   "source": [
    "title='Standard_Error_on_Mean'\n",
    "plot_trends(list_std, list_std_norm, list_good_ls, title, me_name, run_number, write=True)"
   ]
  },
  {
   "cell_type": "code",
   "execution_count": null,
   "id": "33",
   "metadata": {},
   "outputs": [],
   "source": []
  },
  {
   "cell_type": "markdown",
   "id": "34",
   "metadata": {},
   "source": [
    "# Calculate Mean, Std Error on Mean and empty LS list for reference run"
   ]
  },
  {
   "cell_type": "code",
   "execution_count": null,
   "id": "35",
   "metadata": {},
   "outputs": [],
   "source": [
    "\n",
    "max_value_charge = 80000 \n",
    "list_means_ref, list_std_ref, list_good_ls_ref, empty_ls_ref = calc_trends(data_ref, ls_ref, max_value_charge, trigger_rate_ref)\n",
    "list_means_norm_ref, list_std_norm_ref, list_good_ls_ref, empty_ls_ref = calc_trends(data_ref, ls_ref, max_value_charge, trigger_rate_ref, norm=True)\n"
   ]
  },
  {
   "cell_type": "markdown",
   "id": "36",
   "metadata": {},
   "source": [
    "## Get indices with value inf \n"
   ]
  },
  {
   "cell_type": "code",
   "execution_count": null,
   "id": "37",
   "metadata": {},
   "outputs": [],
   "source": [
    "inf_indices = [index for index, value in enumerate(list_means_norm_ref) if math.isinf(value)]\n",
    "inf_indices"
   ]
  },
  {
   "cell_type": "markdown",
   "id": "38",
   "metadata": {},
   "source": [
    "## Non-zero charge values in data \n"
   ]
  },
  {
   "cell_type": "code",
   "execution_count": null,
   "id": "39",
   "metadata": {},
   "outputs": [],
   "source": [
    "[list_means_ref[i] for i in inf_indices] "
   ]
  },
  {
   "cell_type": "code",
   "execution_count": null,
   "id": "40",
   "metadata": {},
   "outputs": [],
   "source": [
    "#title='MeanValue'\n",
    "#plot_trends(list_means_ref, list_means_norm_ref, list_good_ls_ref, title, me_name, ref_run, write=True)"
   ]
  },
  {
   "cell_type": "code",
   "execution_count": null,
   "id": "41",
   "metadata": {},
   "outputs": [],
   "source": [
    "#plt.plot(trigger_rate_ref)"
   ]
  },
  {
   "cell_type": "code",
   "execution_count": null,
   "id": "42",
   "metadata": {},
   "outputs": [],
   "source": [
    "#title='Standard_Error_on_Mean'\n",
    "#plot_trends(list_std_ref, list_std_norm_ref, list_good_ls_ref, title, me_name, ref_run, write=True)"
   ]
  },
  {
   "cell_type": "code",
   "execution_count": null,
   "id": "43",
   "metadata": {},
   "outputs": [],
   "source": [
    "fig, (ax1, ax2) = plt.subplots(1, 2, figsize=(20,8))\n",
    "ax1.plot(list_means_ref, label=ref_run)\n",
    "ax1.set_xlabel('LS')\n",
    "ax1.set_ylabel('Mean')\n",
    "ax1.legend()\n",
    "\n",
    "\n",
    "\n",
    "ax2.plot(list_means_norm_ref, label=ref_run)\n",
    "ax2.set_xlabel('LS')\n",
    "ax2.set_ylabel('Normalised Mean')\n",
    "ax2.set_ylim(100,300)\n",
    "\n",
    "ax2.legend()\n",
    "\n",
    "\n",
    "fig.suptitle(\"PixelPhase1/Tracks/PXBarrel/charge_PXLayer_1, \"+str(ref_run), fontsize=16)\n",
    "plt.show()\n"
   ]
  },
  {
   "cell_type": "code",
   "execution_count": null,
   "id": "44",
   "metadata": {},
   "outputs": [],
   "source": [
    "fig, (ax1, ax2) = plt.subplots(1, 2, figsize=(20,8))\n",
    "ax1.plot(list_std_ref, label=ref_run)\n",
    "ax1.set_xlabel('LS')\n",
    "ax1.set_ylabel('Standard Error on Mean')\n",
    "ax1.legend()\n",
    "\n",
    "\n",
    "\n",
    "ax2.plot(list_std_norm_ref, label=ref_run)\n",
    "ax2.set_xlabel('LS')\n",
    "ax2.set_ylabel('Normalised Standard Error')\n",
    "ax2.set_ylim(0,50)\n",
    "\n",
    "ax2.legend()\n",
    "\n",
    "\n",
    "fig.suptitle(\"PixelPhase1/Tracks/PXBarrel/charge_PXLayer_1, \"+str(ref_run), fontsize=16)\n",
    "plt.show()\n"
   ]
  },
  {
   "cell_type": "markdown",
   "id": "45",
   "metadata": {},
   "source": [
    "# Get a reference for mean pixel charge \n",
    "- Calculate mean of means for the reference run.\n",
    "- Define a range outside which the mean and std dev would be marked as BAD: +/- 10%?"
   ]
  },
  {
   "cell_type": "markdown",
   "id": "46",
   "metadata": {},
   "source": [
    "# Plot the trend plots with the reference ranges"
   ]
  },
  {
   "cell_type": "markdown",
   "id": "47",
   "metadata": {},
   "source": [
    "## https://cmsoms.cern.ch/cms/triggers/l1_hlt_trigger_rates?cms_run=379765"
   ]
  },
  {
   "cell_type": "markdown",
   "id": "48",
   "metadata": {},
   "source": [
    "- Physics off from 1 to 41.\n",
    "- Tob, TibTid, TEC+, TEC-, BPix, FPix off until 41. Fpix off until 42\n",
    "- Stable beam off until 40\n",
    "\n",
    "- 380238 Filling Scheme\t25ns_2352b_2340_2004_2133_108bpi_24inj\n",
    "- 379765 Filling Scheme\t25ns_1983b_1970_1657_1684_144bpi_19inj_3INDIVs "
   ]
  },
  {
   "cell_type": "markdown",
   "id": "49",
   "metadata": {},
   "source": []
  },
  {
   "cell_type": "code",
   "execution_count": null,
   "id": "50",
   "metadata": {},
   "outputs": [],
   "source": []
  },
  {
   "cell_type": "code",
   "execution_count": null,
   "id": "51",
   "metadata": {},
   "outputs": [],
   "source": []
  }
 ],
 "metadata": {
  "@webio": {
   "lastCommId": null,
   "lastKernelId": null
  },
  "kernelspec": {
   "display_name": "Python 3 (ipykernel)",
   "language": "python",
   "name": "python3"
  },
  "language_info": {
   "codemirror_mode": {
    "name": "ipython",
    "version": 3
   },
   "file_extension": ".py",
   "mimetype": "text/x-python",
   "name": "python",
   "nbconvert_exporter": "python",
   "pygments_lexer": "ipython3",
   "version": "3.11.4"
  }
 },
 "nbformat": 4,
 "nbformat_minor": 5
}
