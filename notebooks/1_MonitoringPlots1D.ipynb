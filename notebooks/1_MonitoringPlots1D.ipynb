{
 "cells": [
  {
   "cell_type": "markdown",
   "id": "0",
   "metadata": {},
   "source": [
    "# 1D Monitoring Element Exploration\n",
    "\n",
    "This notebooks provides some examples on how to access and visualize 1D monitoring elements using `cmsdials` and the visualization tools provided by `dqmexplore`."
   ]
  },
  {
   "cell_type": "markdown",
   "id": "1",
   "metadata": {},
   "source": [
    "## Imports"
   ]
  },
  {
   "cell_type": "code",
   "execution_count": null,
   "id": "2",
   "metadata": {},
   "outputs": [],
   "source": [
    "# Setting up DIALS object and importing dqmexplore\n",
    "import dqmexplore as dqme\n",
    "dials = dqme.utils.setupdials.setup_dials_object_deviceauth()"
   ]
  },
  {
   "cell_type": "code",
   "execution_count": null,
   "id": "3",
   "metadata": {},
   "outputs": [],
   "source": [
    "# Importing DIALS objects\n",
    "# For more information on DIALS, please visit https://github.com/cms-DQM/dials-py\n",
    "from cmsdials.filters import LumisectionHistogram1DFilters"
   ]
  },
  {
   "cell_type": "code",
   "execution_count": null,
   "id": "4",
   "metadata": {},
   "outputs": [],
   "source": [
    "# The following function can be used to search for the exact name of the monitoring element you wish to analyze\n",
    "dqme.utils.datautils.print_availMEs(\n",
    "    dials, \n",
    "    contains=\"Tracking/TrackParameters/highPurityTracks/pt_1/GeneralProperties/Track*\", \n",
    "    dims=1\n",
    ")"
   ]
  },
  {
   "cell_type": "markdown",
   "id": "5",
   "metadata": {},
   "source": [
    "## 1D Monitoring Elements"
   ]
  },
  {
   "cell_type": "code",
   "execution_count": null,
   "id": "6",
   "metadata": {},
   "outputs": [],
   "source": [
    "# Obtaininng ME data from DIALS\n",
    "runnb = 380238\n",
    "me__regex =  \"Tracking/TrackParameters/highPurityTracks/pt_1/GeneralProperties/Track*\" \n",
    "\n",
    "data1D = dials.h1d.list_all(\n",
    "    LumisectionHistogram1DFilters(\n",
    "        run_number = runnb,\n",
    "        dataset__regex = \"ZeroBias\",\n",
    "        me__regex = me__regex\n",
    "    ),\n",
    "    max_pages=200\n",
    ").to_pandas()\n",
    "\n",
    "medata = dqme.medata.MEData(data1D)\n",
    "\n",
    "print(\"Empty LSs for each ME:\\n\")\n",
    "for me in medata.getMENames():\n",
    "    print(\"{}:\".format(me), medata.getEmptyLSs(me))"
   ]
  },
  {
   "cell_type": "code",
   "execution_count": null,
   "id": "7",
   "metadata": {},
   "outputs": [],
   "source": [
    "# Getting trigger rate and plotting it\n",
    "trig_rate = dqme.oms.get_rate(dials, runnb)\n",
    "trig_rate_plot = dqme.oms.plot_rate(\n",
    "    trig_rate, \n",
    "    fig_title=\"Trigger Rate ({})\".format(runnb), \n",
    "    norm=False, \n",
    "    show=True\n",
    ")"
   ]
  },
  {
   "cell_type": "markdown",
   "id": "8",
   "metadata": {},
   "source": [
    "Note that you can find what the reference run is by downloading the latest run-reference run mapping from Certification Helper by running:\n",
    "\n",
    "```bash\n",
    "fetch_refruns -f ./jsons/certhelper_refruns.json\n",
    "```\n",
    "\n",
    "and then searching:\n",
    "\n",
    "```bash\n",
    "search_runs -i jsons/certhelper_refruns.json -r 380238\n",
    "```"
   ]
  },
  {
   "cell_type": "code",
   "execution_count": null,
   "id": "9",
   "metadata": {},
   "outputs": [],
   "source": [
    "# OPTIONAL: Getting reference data \n",
    "refrunnb = 379765\n",
    "\n",
    "refdata1D = dials.h1d.list_all(\n",
    "    LumisectionHistogram1DFilters(\n",
    "        run_number = refrunnb,\n",
    "        dataset__regex = \"ZeroBias\",\n",
    "        me__regex = me__regex\n",
    "    ),\n",
    "    max_pages=200\n",
    ").to_pandas()\n",
    "\n",
    "refdata = dqme.medata.MEData(refdata1D)\n",
    "\n",
    "print(\"Empty LSs for each ME:\\n\")\n",
    "for me in refdata.getMENames():\n",
    "    print(\"{}:\".format(me), refdata.getEmptyLSs(me))"
   ]
  },
  {
   "cell_type": "code",
   "execution_count": null,
   "id": "10",
   "metadata": {},
   "outputs": [],
   "source": [
    "# Plotting the trigger rate for the reference run\n",
    "trig_rate_ref = dqme.oms.get_rate(dials, refrunnb)\n",
    "trig_rate_ref_plot = dqme.oms.plot_rate(\n",
    "    trig_rate_ref, \n",
    "    fig_title=\"Reference Trigger Rate ({})\".format(runnb), \n",
    "    norm=False, \n",
    "    show=True\n",
    ")"
   ]
  },
  {
   "cell_type": "code",
   "execution_count": null,
   "id": "11",
   "metadata": {},
   "outputs": [],
   "source": [
    "# Plotting MEs\n",
    "fig = dqme.interplt.plot1DMEs(\n",
    "    medata,\n",
    "    plots_config = \"../configs/plots_configs/trackMEs_1D_plotconfig.json\",\n",
    "    figure_config = \"../configs/fig_configs/trackMEs_1D_figconfig.json\",\n",
    "    # ref_data=refdata, # Uncomment to plot reference data\n",
    "    # trigger_rates=trig_rate, # Uncomment if you want to normalize by trigger rate\n",
    "    show=True,\n",
    ")"
   ]
  },
  {
   "cell_type": "markdown",
   "id": "12",
   "metadata": {},
   "source": [
    "### Heatmaps\n",
    "\n",
    "By \"stacking\" 1D histograms, we can create heatmaps which give us an idea of how the run evolved through time as data was being taken. "
   ]
  },
  {
   "cell_type": "code",
   "execution_count": null,
   "id": "13",
   "metadata": {},
   "outputs": [],
   "source": [
    "# Plotting MEs as heatmaps\n",
    "fig = dqme.staticplt.plotheatmaps1D(\n",
    "    medata,\n",
    "    plots_config = \"../configs/plots_configs/trackMEs_HM_plotconfig.json\",\n",
    "    fig_config = \"../configs/fig_configs/trackMEs_HM_figconfig.json\",\n",
    "    # trigger_rates = trig_rate, # Uncomment if you want to normalize by trigger rate\n",
    "    show=True,\n",
    ")"
   ]
  }
 ],
 "metadata": {
  "@webio": {
   "lastCommId": null,
   "lastKernelId": null
  },
  "kernelspec": {
   "display_name": "venv",
   "language": "python",
   "name": "python3"
  },
  "language_info": {
   "codemirror_mode": {
    "name": "ipython",
    "version": 3
   },
   "file_extension": ".py",
   "mimetype": "text/x-python",
   "name": "python",
   "nbconvert_exporter": "python",
   "pygments_lexer": "ipython3",
   "version": "3.11.11"
  }
 },
 "nbformat": 4,
 "nbformat_minor": 5
}
