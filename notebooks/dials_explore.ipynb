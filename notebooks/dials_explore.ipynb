{
 "cells": [
  {
   "cell_type": "markdown",
   "id": "8e48e2a7",
   "metadata": {},
   "source": [
    "# Tracker Per-LS Data Exploration Tools\n",
    "\n",
    "This notebook is intended to present a series of per-LS data exploration tools. It utilizes the DIALS Python API to fetch the monitoring element histograms, as well as the OMS API to obtain metadata on the run including the trigger rate. These tools offer the option to display the integral of a specified reference run in addition to the run under evaluation. This notebook is intended to be run in SWAN. However, in the case you wish to run it in a local virtual environment, a `pyproject.toml` is included which specifies all of the basic dependencies which you can install using Poetry. Note that, in either case, you will have to do it in `lxplus`.\n",
    "\n",
    "NOTE: In order to run the OMS API you will need to have a json file with the client ID (`API_CLIENT_ID`) and secret (`API_CLIENT_SECRET`). For more information on how to obtain these, you can take a look at these [slides](https://indico.cern.ch/event/997758/contributions/4191705/attachments/2173881/3670409/OMS%20CERN%20OpenID%20migration%20-%20update.pdf).\n",
    "\n",
    "## Setup"
   ]
  },
  {
   "cell_type": "code",
   "execution_count": null,
   "id": "e893d127",
   "metadata": {},
   "outputs": [],
   "source": [
    "# Run this if you are in SWAN\n",
    "# Package installation/updating\n",
    "!pip3 install -e .. --no-dependencies\n",
    "!pip3 install git+https://github.com/roy-cruz/OMSapi.git\n",
    "!pip3 install cmsdials --upgrade"
   ]
  },
  {
   "cell_type": "code",
   "execution_count": null,
   "id": "70b2ddfd",
   "metadata": {},
   "outputs": [],
   "source": [
    "# DIALS API\n",
    "# For more information on DIALS, please visit https://github.com/cms-DQM/dials-py\n",
    "import cmsdials\n",
    "from cmsdials.auth.client import AuthClient\n",
    "from cmsdials.auth.bearer import Credentials\n",
    "from cmsdials import Dials\n",
    "from cmsdials.filters import LumisectionHistogram1DFilters, LumisectionHistogram2DFilters\n",
    "\n",
    "auth = AuthClient()\n",
    "token = auth.device_auth_flow()\n",
    "creds = Credentials.from_authclient_token(token)\n",
    "\n",
    "creds = Credentials.from_creds_file()\n",
    "dials = Dials(creds)"
   ]
  },
  {
   "cell_type": "code",
   "execution_count": null,
   "id": "0226d48e",
   "metadata": {},
   "outputs": [],
   "source": [
    "# Importing DQMExplore library\n",
    "import dqmexplore\n",
    "from dqmexplore.plotting import plot1DMEs, plot2DMEs\n",
    "from dqmexplore.utils import check_empty_ls\n",
    "from dqmexplore.dataproc import generate_me_dict, integrate\n",
    "from dqmexplore.statplotting import plotheatmaps1D, plotMEs1D_static"
   ]
  },
  {
   "cell_type": "code",
   "execution_count": null,
   "id": "4640fce6",
   "metadata": {},
   "outputs": [],
   "source": [
    "# OMS API import\n",
    "import json\n",
    "import os\n",
    "\n",
    "with open(\"../clientid.json\", \"r\") as file:\n",
    "    secrets = json.load(file)\n",
    "\n",
    "os.environ[\"API_CLIENT_ID\"] = secrets[\"API_CLIENT_ID\"]\n",
    "os.environ[\"API_CLIENT_SECRET\"] = secrets[\"API_CLIENT_SECRET\"]\n",
    "\n",
    "import oms\n",
    "\n",
    "oms_fetch = oms.oms_fetch()\n",
    "\n",
    "# Plotly\n",
    "import plotly\n",
    "import plotly.graph_objects as go\n",
    "from plotly.subplots import make_subplots\n",
    "from plotly.offline import plot\n",
    "\n",
    "# Other useful libraries for data exploration, manipulation and processing\n",
    "import numpy as np\n",
    "import matplotlib.pyplot as plt\n",
    "import pandas as pd\n",
    "\n",
    "# Misc.\n",
    "import ipywidgets as widgets\n",
    "from IPython.display import display, clear_output"
   ]
  },
  {
   "cell_type": "markdown",
   "id": "524b537d",
   "metadata": {},
   "source": [
    "If you run the following, you will get a list of all the available monitoring elements (MEs)."
   ]
  },
  {
   "cell_type": "code",
   "execution_count": null,
   "id": "c33b15c7",
   "metadata": {},
   "outputs": [],
   "source": [
    "mes_df = pd.DataFrame([me_qry_rslt.__dict__ for me_qry_rslt in dials.mes.list()])\n",
    "# mes_df.to_csv(\"./avail_MEs.csv\")\n",
    "mes_df"
   ]
  },
  {
   "cell_type": "markdown",
   "id": "c8f6e95e",
   "metadata": {},
   "source": [
    "## Using OMS to Obtain Metadata\n",
    "\n",
    "Using the OMS API, we can access important information regarding the run conditions and other information about the run. The available endpoints are:\n",
    "\n",
    "* `lumisections`\n",
    "* `runs`\n",
    "* `fills`\n",
    "* `datasetrates`\n",
    "\n",
    "You can access the trigger rate* in the following way:\n",
    "\n",
    "*HLT ZeroBias trigger rate"
   ]
  },
  {
   "cell_type": "code",
   "execution_count": null,
   "id": "0a1e0a76",
   "metadata": {},
   "outputs": [],
   "source": [
    "# Getting per-LS trigger rates\n",
    "runnb = 380238\n",
    "\n",
    "extrafilter = dict(\n",
    "    attribute_name=\"dataset_name\",\n",
    "    value=\"ZeroBias\",\n",
    "    operator=\"EQ\",\n",
    ")\n",
    "\n",
    "omstrig_json = oms.get_oms_data(\n",
    "    oms_fetch.omsapi, \n",
    "    'datasetrates', \n",
    "    runnb,\n",
    "    extrafilters=[extrafilter],\n",
    "    limit_entries=2000\n",
    ")\n",
    "\n",
    "omstrig_df = oms.oms_utils.makeDF(omstrig_json)"
   ]
  },
  {
   "cell_type": "code",
   "execution_count": null,
   "id": "68deba88",
   "metadata": {},
   "outputs": [],
   "source": [
    "# Plotting the trigger rate\n",
    "fig = go.Figure()\n",
    "\n",
    "fig.add_trace(\n",
    "    go.Scatter(\n",
    "        x = omstrig_df[\"last_lumisection_number\"],\n",
    "        y = omstrig_df[\"rate\"],\n",
    "        mode=\"lines+markers\"\n",
    "    )\n",
    ")\n",
    "\n",
    "fig.update_layout(\n",
    "    title = f\"Trigger rate (Run {runnb})\",\n",
    "    xaxis_title = \"Lumisection\",\n",
    "    yaxis_title = \"Trigger rate\",\n",
    ")\n",
    "\n",
    "fig.update_yaxes(range=[0, omstrig_df[\"rate\"].max() + 10])\n",
    "fig.update_xaxes(range=[1, omstrig_df[\"last_lumisection_number\"].max()])\n",
    "\n",
    "fig.show()"
   ]
  },
  {
   "cell_type": "code",
   "execution_count": null,
   "id": "c09affab",
   "metadata": {},
   "outputs": [],
   "source": [
    "# Getting trigger rate array which we can use to normalize by trigger rate\n",
    "trig_rate = np.array(omstrig_df[\"rate\"])"
   ]
  },
  {
   "cell_type": "markdown",
   "id": "de01be59",
   "metadata": {},
   "source": [
    "## 1D Monitoring Elements"
   ]
  },
  {
   "cell_type": "markdown",
   "id": "05d4153b",
   "metadata": {},
   "source": [
    "We fetch data from DIALS as shown here. For more information on how to use the DIALS Python API, please refer to the [official repository](https://github.com/cms-DQM/dials-py). If you are unfamiliar with regex syntax, you can take a look at the following [cheat sheet](https://www.rexegg.com/regex-quickstart.html) for a quick overview."
   ]
  },
  {
   "cell_type": "code",
   "execution_count": null,
   "id": "b8c201e1",
   "metadata": {},
   "outputs": [],
   "source": [
    "# Example query\n",
    "runnb = 380238\n",
    "me__regex =  \"PixelPhase1/Tracks/PXBarrel/charge_PXLayer_.\" \n",
    "\n",
    "data1D = dials.h1d.list_all(\n",
    "    LumisectionHistogram1DFilters(\n",
    "        next_token = None,\n",
    "        dataset_id = None,\n",
    "        file_id = None,\n",
    "        run_number = runnb,\n",
    "        run_number__lte = None,\n",
    "        run_number__gte = None,\n",
    "        ls_number = None,\n",
    "        ls_numbet__lte = None,\n",
    "        ls_number__gte = None,\n",
    "        me_id = None,\n",
    "        entries__gte = None,\n",
    "        dataset = \"/ZeroBias/Run2024C-PromptReco-v1/DQMIO\",\n",
    "        dataset__regex = None,\n",
    "        logical_file_name = None,\n",
    "        logical_file_name__regex = None,\n",
    "        me = None,\n",
    "        me__regex = me__regex\n",
    "    ),\n",
    "    # max_pages=200\n",
    ").to_pandas()"
   ]
  },
  {
   "cell_type": "code",
   "execution_count": null,
   "id": "f970e5ae",
   "metadata": {},
   "outputs": [],
   "source": [
    "# Checking for emprty LSs, empty here meaning that the number of entries in the historgram is less than the set threshold (default=10)\n",
    "print(\"Empty/Near empty LSs:\")\n",
    "\n",
    "pd.DataFrame(check_empty_ls(generate_me_dict(data1D))).T"
   ]
  },
  {
   "cell_type": "code",
   "execution_count": null,
   "id": "2ab11266",
   "metadata": {},
   "outputs": [],
   "source": [
    "# Getting reference data\n",
    "refrun = 379765\n",
    "\n",
    "refdata1D = dials.h1d.list_all(\n",
    "    LumisectionHistogram1DFilters(\n",
    "        next_token = None,\n",
    "        dataset_id = None,\n",
    "        file_id = None,\n",
    "        run_number = refrun,\n",
    "        run_number__lte = None,\n",
    "        run_number__gte = None,\n",
    "        ls_number = None,\n",
    "        ls_numbet__lte = None,\n",
    "        ls_number__gte = None,\n",
    "        me_id = None,\n",
    "        entries__gte = None,\n",
    "        dataset = \"/ZeroBias/Run2024C-PromptReco-v1/DQMIO\",\n",
    "        dataset__regex = None,\n",
    "        logical_file_name = None,\n",
    "        logical_file_name__regex = None,\n",
    "        me = None,\n",
    "        me__regex = me__regex\n",
    "    ),\n",
    "    # max_pages=200\n",
    ").to_pandas()"
   ]
  },
  {
   "cell_type": "code",
   "execution_count": null,
   "id": "ab81e390",
   "metadata": {
    "scrolled": false
   },
   "outputs": [],
   "source": [
    "# Defining plot features\n",
    "ax_labels = [\n",
    "    dict(\n",
    "        x=\"Charge (e)\", \n",
    "        y=\"Count\"\n",
    "    )\n",
    "]\n",
    "\n",
    "fig_title = f\"Pixel Barrel Charge (Run {runnb}, Ref {refrun})\""
   ]
  },
  {
   "cell_type": "code",
   "execution_count": null,
   "id": "46a95882",
   "metadata": {},
   "outputs": [],
   "source": [
    "# Plotting\n",
    "fig = plot1DMEs(\n",
    "    data1D, \n",
    "    ax_labels=ax_labels, \n",
    "    norm=True, \n",
    "    trigger_rates=trig_rate, \n",
    "#     ref_df=refdata1D\n",
    ")\n",
    "\n",
    "# Export plot to html\n",
    "plot(fig, filename=f\"PixelBarrelCharge-run{runnb}-ref{refrun}.html\")"
   ]
  },
  {
   "cell_type": "markdown",
   "id": "04a73263",
   "metadata": {},
   "source": [
    "### Heatmaps\n",
    "\n",
    "By \"stacking\" 1D histograms, we can create heatmaps which give us an idea of how the run evolved through time as data was being taken."
   ]
  },
  {
   "cell_type": "code",
   "execution_count": null,
   "id": "c24df336",
   "metadata": {},
   "outputs": [],
   "source": [
    "ax_labels = [\n",
    "    dict(x = \"Charge(e)\", y = \"LS\")\n",
    "] * 4\n",
    "\n",
    "fig_title = f\"Pixel Barrel Charge Heatmaps (Run {runnb}, Ref {refrun})\"\n",
    "\n",
    "fig = plotheatmaps1D(\n",
    "    data1D,\n",
    "    fig_title=fig_title,\n",
    "    trigger_rates = trig_rate,\n",
    "    ax_labels=ax_labels,\n",
    "    show=False\n",
    ")\n",
    "\n",
    "# Export plot to html\n",
    "plot(fig, filename=f\"PixelBarrelChargeHeatmap-run{runnb}-ref{refrun}.html\")"
   ]
  },
  {
   "cell_type": "markdown",
   "id": "c71e2240",
   "metadata": {},
   "source": [
    "## 2D Monitoring Elements"
   ]
  },
  {
   "cell_type": "markdown",
   "id": "4a1ff88b",
   "metadata": {},
   "source": [
    "2D monitoring elements are also available in DIALS and they can be accessed as shown below."
   ]
  },
  {
   "cell_type": "code",
   "execution_count": null,
   "id": "8ab8d1ce",
   "metadata": {},
   "outputs": [],
   "source": [
    "runnb = 380238\n",
    "# me__regex = \"PixelPhase1/Phase1_MechanicalView/PXBarrel/digi_occupancy_per_SignedModuleCoord_per_SignedLadderCoord_PXLayer_.\"\n",
    "# me__regex = \"(PixelPhase1/Phase1_MechanicalView/PXBarrel/digi_occupancy_per_SignedModuleCoord_per_SignedLadderCoord_PXLayer_(1|2|3))|(PixelPhase1/Tracks/clusterposition_zphi_ontrack)\"\n",
    "me__regex = \"PixelPhase1/Tracks/PXForward/clusterposition_xy_ontrack_PXDisk_+.\"\n",
    "\n",
    "data2D = dials.h2d.list_all(\n",
    "    LumisectionHistogram1DFilters(\n",
    "        next_token = None,\n",
    "        dataset_id = None,\n",
    "        file_id = None,\n",
    "        run_number = runnb,\n",
    "        run_number__lte = None,\n",
    "        run_number__gte = None,\n",
    "        ls_number = None,\n",
    "        ls_numbet__lte = None,\n",
    "        ls_number__gte = None,\n",
    "        me_id = None,\n",
    "        entries__gte = None,\n",
    "        dataset = \"/ZeroBias/Run2024C-PromptReco-v1/DQMIO\",\n",
    "        dataset__regex = None,\n",
    "        logical_file_name = None,\n",
    "        logical_file_name__regex = None,\n",
    "        me = None,\n",
    "        me__regex = me__regex\n",
    "    ),\n",
    "    # max_pages=200\n",
    ").to_pandas()"
   ]
  },
  {
   "cell_type": "code",
   "execution_count": null,
   "id": "110cdaf2",
   "metadata": {},
   "outputs": [],
   "source": [
    "# ax_labels = [\n",
    "#     dict(x=\"SignedModuleCoord\", y=\"SignedLadderCoord\")\n",
    "# ] * 6\n",
    "\n",
    "fig_title = f\"Cluster Position On Track for PX Discs (Run {runnb})\"\n",
    "\n",
    "fig2D = plot2DMEs(\n",
    "    data2D,\n",
    "    fig_title=fig_title,\n",
    "#     ax_labels=ax_labels,\n",
    "    trigger_rates=trig_rate\n",
    ")\n",
    "\n",
    "plot(fig2D, filename=f\"PixelBarrelDigiOccupancy-run{runnb}.html\")"
   ]
  },
  {
   "cell_type": "markdown",
   "id": "bba5d0a1",
   "metadata": {},
   "source": [
    "## Integrated MEs\n",
    "\n",
    "Suppose you found that the first 10 lumisections of a run have some sort of issue and you want to get the same plot the GUI would give you, but without including those LSs. This next section offers some tools to do just that. Run the following block of code to generate a slider widget which you can use to interactively select the LSs you wish to integrate over."
   ]
  },
  {
   "cell_type": "code",
   "execution_count": null,
   "id": "821c0ef1",
   "metadata": {},
   "outputs": [],
   "source": [
    "range_slider = widgets.IntRangeSlider(\n",
    "    value=[1, len(trig_rate)],\n",
    "    min=1,\n",
    "    max=len(trig_rate),\n",
    "    step=1,\n",
    "    description='Lumisections:',\n",
    "    disabled=False,\n",
    "    continuous_update=False,\n",
    "    orientation='horizontal',\n",
    "    readout=True,\n",
    ")\n",
    "\n",
    "output = widgets.Output()\n",
    "display(output)\n",
    "\n",
    "# List to store selected ranges\n",
    "# Temporary list to hold currently selected, but unaded ranged\n",
    "selected_range = []\n",
    "# List of added ranges\n",
    "final_ranges = []\n",
    "# Full list of lss generated from list of added ranges\n",
    "selected_lss = []\n",
    "\n",
    "def ranges_overlap(range1, range2):\n",
    "    start1, end1 = range1\n",
    "    start2, end2 = range2\n",
    "    return start1 <= end2 and start2 <= end1\n",
    "\n",
    "# Slider interactivity functions\n",
    "def on_slider_change(change):\n",
    "    selected_range[:] = tuple(change['new'])\n",
    "    update_output()\n",
    "\n",
    "def update_output():\n",
    "    with output:\n",
    "        clear_output()\n",
    "        print(f\"Selected ranges: {selected_range}\")\n",
    "\n",
    "# Attch change handler to slider\n",
    "range_slider.observe(on_slider_change, names='value')\n",
    "\n",
    "display(range_slider, output)\n",
    "\n",
    "# Buttons def\n",
    "def clear_ranges(_):\n",
    "    final_ranges.clear()\n",
    "    update_output()\n",
    "\n",
    "def apply_ranges(_):\n",
    "    for frange in final_ranges:\n",
    "        if ranges_overlap(frange, tuple(selected_range)):\n",
    "            print(\"Error: Overlap of ranges. Try again.\")\n",
    "            break\n",
    "    else:\n",
    "        final_ranges.append(tuple(selected_range[:]))\n",
    "        print(f\"Range selected: {final_ranges}\")\n",
    "        \n",
    "def get_lss(_):\n",
    "    selected_lss.clear()\n",
    "    for lsrange in final_ranges:\n",
    "        selected_lss.extend(range(lsrange[0], lsrange[1]+1))\n",
    "        selected_lss.sort()\n",
    "    with output:\n",
    "        print(f\"Lumisection selection: {selected_lss}\")\n",
    "\n",
    "clear_button = widgets.Button(description=\"Clear Ranges\")\n",
    "clear_button.on_click(clear_ranges)\n",
    "\n",
    "apply_button = widgets.Button(description=\"Apply Ranges\")\n",
    "apply_button.on_click(apply_ranges)\n",
    "\n",
    "get_lss_button = widgets.Button(description=\"Get LSs\")\n",
    "get_lss_button.on_click(get_lss)\n",
    "\n",
    "display(clear_button, apply_button, get_lss_button)"
   ]
  },
  {
   "cell_type": "code",
   "execution_count": null,
   "id": "09c86f20",
   "metadata": {},
   "outputs": [],
   "source": [
    "selected_lss"
   ]
  },
  {
   "cell_type": "code",
   "execution_count": null,
   "id": "7669b115",
   "metadata": {},
   "outputs": [],
   "source": [
    "# ax_labels = [\n",
    "#     dict(x = \"Charge (e)\", y = \"Count\")\n",
    "# ] * 4\n",
    "\n",
    "ax_labels = [\n",
    "    dict(x=\"SignedModuleCoord\", y=\"SignedLadderCoord\")\n",
    "] * 4\n",
    "\n",
    "fig_title = f\"Pixel Barrel Charge Integrated (Run {runnb}, Ref {refrun})\"\n",
    "\n",
    "fig = plotMEs1D_static(\n",
    "    data2D,\n",
    "    norm=True,\n",
    "    fig_title=fig_title,\n",
    "    ax_labels=ax_labels,\n",
    "    ls_filter=selected_lss,\n",
    "    trigger_rates=trig_rate,\n",
    "#     ref_df=refdata1D\n",
    ")\n",
    "# Export plot to html\n",
    "plot(fig, filename=f\"PixelBarrelCharge-Integrated-run{runnb}-ref{refrun}.html\")"
   ]
  }
 ],
 "metadata": {
  "@webio": {
   "lastCommId": null,
   "lastKernelId": null
  },
  "kernelspec": {
   "display_name": "Python 3",
   "language": "python",
   "name": "python3"
  },
  "language_info": {
   "codemirror_mode": {
    "name": "ipython",
    "version": 3
   },
   "file_extension": ".py",
   "mimetype": "text/x-python",
   "name": "python",
   "nbconvert_exporter": "python",
   "pygments_lexer": "ipython3",
   "version": "3.11.7"
  }
 },
 "nbformat": 4,
 "nbformat_minor": 5
}
