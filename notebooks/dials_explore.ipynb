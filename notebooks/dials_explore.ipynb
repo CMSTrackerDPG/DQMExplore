{
 "cells": [
  {
   "cell_type": "markdown",
   "id": "8e48e2a7",
   "metadata": {},
   "source": [
    "# Per-LS Data Exploration Tools Development Notebook\n",
    "\n",
    "This notebook is intended to provide essential tools to explore per-LS information fetched from DIALS.\n",
    "\n",
    "## Setup\n",
    "### DIALS"
   ]
  },
  {
   "cell_type": "code",
   "execution_count": null,
   "id": "70b2ddfd",
   "metadata": {},
   "outputs": [],
   "source": [
    "import cmsdials\n",
    "from cmsdials.auth.client import AuthClient\n",
    "from cmsdials.auth.bearer import Credentials\n",
    "from cmsdials import Dials\n",
    "from cmsdials.filters import LumisectionHistogram1DFilters, LumisectionHistogram2DFilters\n",
    "\n",
    "import numpy as np\n",
    "import matplotlib.pyplot as plt\n",
    "import pandas as pd\n",
    "import ipywidgets as widgets\n",
    "import math\n",
    "import seaborn as sns\n",
    "import json\n",
    "import os\n",
    "\n",
    "import plotly\n",
    "import plotly.graph_objects as go\n",
    "from plotly.subplots import make_subplots"
   ]
  },
  {
   "cell_type": "code",
   "execution_count": null,
   "id": "432776c9",
   "metadata": {},
   "outputs": [],
   "source": [
    "auth = AuthClient()\n",
    "token = auth.device_auth_flow()\n",
    "creds = Credentials.from_authclient_token(token)\n",
    "\n",
    "creds = Credentials.from_creds_file()\n",
    "dials = Dials(creds)"
   ]
  },
  {
   "cell_type": "markdown",
   "id": "12267ff0",
   "metadata": {},
   "source": [
    "### OMS API"
   ]
  },
  {
   "cell_type": "code",
   "execution_count": null,
   "id": "026e3aca",
   "metadata": {},
   "outputs": [],
   "source": [
    "with open(\"../clientid.json\", \"r\") as file:\n",
    "    secrets = json.load(file)\n",
    "\n",
    "os.environ[\"API_CLIENT_ID\"] = secrets[\"API_CLIENT_ID\"]\n",
    "os.environ[\"API_CLIENT_SECRET\"] = secrets[\"API_CLIENT_SECRET\"]\n",
    "\n",
    "import oms\n",
    "\n",
    "oms_fetch = oms.oms_fetch()"
   ]
  },
  {
   "cell_type": "markdown",
   "id": "89ee8291",
   "metadata": {},
   "source": [
    "## DQMExplore Class Definition (WIP)"
   ]
  },
  {
   "cell_type": "code",
   "execution_count": null,
   "id": "03f77c4d",
   "metadata": {},
   "outputs": [],
   "source": [
    "class dqmexplorer:\n",
    "    \n",
    "    def __init__(self) -> None:\n",
    "        self._ME_names: dict = {\"1D\": [], \"2D\": []}\n",
    "        self._data_df: pd.DataFrame | None = None \n",
    "        self._runnbs: list[int|float] | None = None \n",
    "        self._avail1DMEs = []\n",
    "        self._avail2DMEs = []\n",
    "    \n",
    "    def set_MEs(self, MEs1D: list | None = None, MEs2D: list | None = None) -> None:\n",
    "        if MEs1D:\n",
    "            self._ME_names[\"1D\"] = [ME for ME in MEs1D if ME in self._avail1DMEs] \n",
    "        if MEs2D:\n",
    "            self._ME_names[\"2D\"] = [ME for ME in MEs2D if ME in self._avail1DMEs]\n",
    "\n",
    "    def get_MEs(self, type: float | None = None) -> list | dict:\n",
    "        if type:\n",
    "            if type in [\"1D\", \"2D\"]:\n",
    "                return (self._ME_names[\"type\"]) \n",
    "            else:\n",
    "                raise ValueError(\"Unknown ME type.\")\n",
    "        else:\n",
    "            return self._ME_names\n",
    "\n",
    "    def set_runs(self, runnbs: int | float | list[int|float]) -> None:\n",
    "        if isinstance(runnbs, (int, float)):\n",
    "            runnbs = [runnbs]\n",
    "        \n",
    "        self._runnbs = runnbs\n",
    "\n",
    "    # def (self):\n",
    "        \n"
   ]
  },
  {
   "cell_type": "markdown",
   "id": "369d2b58",
   "metadata": {},
   "source": [
    "## Plotting function definitions (WIP)"
   ]
  },
  {
   "cell_type": "code",
   "execution_count": null,
   "id": "9d3bcd4c",
   "metadata": {},
   "outputs": [],
   "source": [
    "def plotinteractive1D(data: np.array, bin_locs: list[float], title: str, x_label: str, y_label: str, plot: bool = True) -> plotly.graph_objs._figure.Figure | None:\n",
    "    \"\"\"\n",
    "    Data assumed to be in order of LS.\n",
    "    \"\"\"\n",
    "    fig = go.Figure()\n",
    "\n",
    "    max_y = data.max()\n",
    "\n",
    "    fig = go.Figure(\n",
    "        data=[\n",
    "            go.Bar(\n",
    "                x=bin_locs,\n",
    "                y=data[0,:],\n",
    "                visible=True,\n",
    "                width=np.diff(bin_locs)\n",
    "            )\n",
    "        ],\n",
    "    )\n",
    "\n",
    "    # Building steps\n",
    "    steps = []\n",
    "    for i in range(len(data)):\n",
    "        step = {\n",
    "            \"method\": \"restyle\",\n",
    "            \"args\": [{\"y\": [data[i, :]]}],\n",
    "            \"label\": str(i+1),\n",
    "        }\n",
    "        steps.append(step)\n",
    "\n",
    "    # Building slider using steps defined above\n",
    "    sliders = [\n",
    "        {\n",
    "            \"active\": 0,\n",
    "            \"currentvalue\": {\"prefix\": \"LS: \"},\n",
    "            \"pad\": {\"t\": 50},\n",
    "            \"steps\": steps,\n",
    "        }\n",
    "    ]\n",
    "\n",
    "    # Passing all of this into the figure\n",
    "    fig.update_layout(\n",
    "        sliders=sliders,\n",
    "        title=title,\n",
    "        xaxis={\n",
    "            \"title\": x_label\n",
    "        },\n",
    "        yaxis={\n",
    "            \"range\": [0, max_y + 10],\n",
    "            \"title\": y_label\n",
    "        },\n",
    "        bargap=0,\n",
    "    )\n",
    "\n",
    "    if plot:\n",
    "        fig.show()\n",
    "    else:\n",
    "        return fig"
   ]
  },
  {
   "cell_type": "code",
   "execution_count": null,
   "id": "a8b0167c",
   "metadata": {},
   "outputs": [],
   "source": [
    "def plotinteractive2D(data: np.array, title: str, x_label: str, y_label: str, plot: bool = True) -> plotly.graph_objs._figure.Figure | None:\n",
    "    fig = go.Figure()\n",
    "\n",
    "    fig.add_trace(\n",
    "        go.Heatmap(\n",
    "            z=data[0], \n",
    "            colorscale=\"Viridis\",\n",
    "            zmin=data.min(),\n",
    "            zmax=data.max()\n",
    "        )\n",
    "    )\n",
    "\n",
    "    # Building steps\n",
    "    steps = []\n",
    "    for i in range(len(data)):\n",
    "        step = {\n",
    "            \"method\": \"restyle\",\n",
    "            \"args\": [{\"z\": [data[i]]}],\n",
    "            \"label\": str(i + 1)\n",
    "        }\n",
    "        steps.append(step)\n",
    "\n",
    "    sliders = [\n",
    "        {\n",
    "            \"active\": 0,\n",
    "            \"currentvalue\": {\"prefix\": \"LS: \"},\n",
    "            \"pad\": {\"t\": 10},\n",
    "            \"steps\": steps,\n",
    "        }\n",
    "    ]\n",
    "\n",
    "    fig.update_layout(\n",
    "        sliders=sliders,\n",
    "        title_text = title,\n",
    "        title_font = {\"size\": 24},\n",
    "        xaxis={\n",
    "            \"title\": x_label\n",
    "        },\n",
    "        yaxis={\n",
    "            \"title\": y_label\n",
    "        },\n",
    "        height=750,\n",
    "        width=750,\n",
    "    )\n",
    "\n",
    "    if plot:\n",
    "        fig.show()\n",
    "    else:\n",
    "        return fig"
   ]
  },
  {
   "cell_type": "code",
   "execution_count": null,
   "id": "dd7a167f",
   "metadata": {},
   "outputs": [],
   "source": [
    "def multiplotinteractive1D(datas: list[np.array], bin_locs: list[np.array], titles: list[str], x_labels: str, y_labels: str) -> plotly.graph_objs._figure.Figure | None:\n",
    "    num_mes = len(titles)\n",
    "    \n",
    "    if num_mes != len(datas):\n",
    "        raise ValueError(\"Number of titles does not match number of datasets given.\")\n",
    "\n",
    "    num_rows = num_mes - num_mes//2\n",
    "    num_cols = num_mes//2\n",
    "    num_lss = len(datas[0])\n",
    "\n",
    "    fig = make_subplots(\n",
    "        rows=num_rows, cols=num_cols, \n",
    "        subplot_titles=titles,\n",
    "        vertical_spacing=0.15,\n",
    "        horizontal_spacing=0.05\n",
    "    )\n",
    "\n",
    "    # Adding the first LS\n",
    "    for i, ME in enumerate(titles):\n",
    "        fig.add_trace(go.Bar(x=bin_locs[i], y=datas[i][0], name=ME), row=i//2 + 1, col=i%2 + 1)\n",
    "\n",
    "    # Making the steps to update to the rest of the LSs\n",
    "    steps = []\n",
    "    for i in range(num_lss):\n",
    "        step = {\n",
    "            'method': 'restyle',\n",
    "            'args': [\n",
    "                {'y': [datas[j][i,:] for j in range(len(datas))]},\n",
    "                np.arange(len(datas))  # Indices of the traces to modify\n",
    "            ],\n",
    "            'label': f'LS {i+1}'\n",
    "        }\n",
    "        steps.append(step)\n",
    "        \n",
    "    sliders = [{\n",
    "        'active': 0,\n",
    "        'currentvalue': {'prefix': 'LS: '},\n",
    "        'pad': {'t': 50},\n",
    "        'steps': steps\n",
    "    }]\n",
    "\n",
    "    # Adding elements and updating layout\n",
    "    fig.update_layout(\n",
    "        sliders=sliders,\n",
    "        # title=\"PX Barrel Charge\",\n",
    "        # xaxis_title=\"Charge (e)\",\n",
    "        # yaxis_title=\"Count\",\n",
    "        bargap=0,\n",
    "        showlegend=False,\n",
    "        width=1600,\n",
    "        height=900\n",
    "    )\n",
    "\n",
    "    for i in range(num_mes):\n",
    "        max_y = datas[i].max()\n",
    "        fig.update_yaxes(title_text=\"Count\", range=[0, max_y + 10], row=(i//2) + 1, col=(i%2) + 1)\n",
    "\n",
    "    fig.show()"
   ]
  },
  {
   "cell_type": "code",
   "execution_count": null,
   "id": "5db32034",
   "metadata": {},
   "outputs": [],
   "source": [
    "def plot1dheatmap():\n",
    "    pass"
   ]
  },
  {
   "cell_type": "code",
   "execution_count": null,
   "id": "5a6687c5",
   "metadata": {},
   "outputs": [],
   "source": [
    "def multiplot1dheatmap():\n",
    "    pass"
   ]
  },
  {
   "cell_type": "code",
   "execution_count": null,
   "id": "209a43b7",
   "metadata": {},
   "outputs": [],
   "source": [
    "def multiplotinteractive2D():\n",
    "    pass"
   ]
  },
  {
   "cell_type": "code",
   "execution_count": null,
   "id": "8b691cfe",
   "metadata": {},
   "outputs": [],
   "source": [
    "def multiplotinteractive():\n",
    "    pass"
   ]
  },
  {
   "cell_type": "markdown",
   "id": "65b6a5aa",
   "metadata": {},
   "source": [
    "### Other Helper Functions"
   ]
  },
  {
   "cell_type": "code",
   "execution_count": null,
   "id": "0a67e3f0",
   "metadata": {},
   "outputs": [],
   "source": [
    "def extractdata(queryrslt: cmsdials.clients.h2d.models.PaginatedLumisectionHistogram2DList, rtn_df=False) -> np.array:\n",
    "    data_df = pd.DataFrame(queryrslt.dict()[\"results\"])\n",
    "    data_df.sort_values(\"ls_number\", inplace=True)\n",
    "\n",
    "    if len(data_df[\"me\"].unique()) == 1:\n",
    "        data_arr = data_df[\"data\"].to_numpy(dtype=np.ndarray)\n",
    "        data_arr = np.array([np.array(x) for x in data_arr])\n",
    "\n",
    "    else:\n",
    "        data_arr = []\n",
    "        for me in data_df[\"me\"].unique():\n",
    "            me_arr = data_df[data_df[\"me\"] == me][\"data\"].to_numpy(dtype=np.ndarray)\n",
    "            me_arr = np.array([np.array(x) for x in me_arr])\n",
    "            data_arr.append(me_arr)\n",
    "        data_arr = np.array(data_arr)\n",
    "\n",
    "    if rtn_df:\n",
    "        return (data_arr, data_df)\n",
    "    else:\n",
    "        return data_arr"
   ]
  },
  {
   "cell_type": "markdown",
   "id": "2b32f255",
   "metadata": {},
   "source": [
    "## Interactive 1D Monitoring Elements\n",
    "### One histogram\n",
    "\n",
    "Fetching data"
   ]
  },
  {
   "cell_type": "code",
   "execution_count": null,
   "id": "ba140068",
   "metadata": {},
   "outputs": [],
   "source": [
    "LumisectionHistogram1DFilters??"
   ]
  },
  {
   "cell_type": "code",
   "execution_count": null,
   "id": "aa8d752f",
   "metadata": {},
   "outputs": [],
   "source": [
    "# runnb = 380030\n",
    "# runnb = 378239\n",
    "# runnb = 378994 # PX Timing scan\n",
    "# runnb = 378981 # PX Bias scan\n",
    "runnb = 380237\n",
    "\n",
    "data = dials.h1d.list_all(\n",
    "    LumisectionHistogram1DFilters(\n",
    "        me=\"PixelPhase1/Tracks/PXBarrel/charge_PXLayer_1\",\n",
    "        dataset__regex=\"/ZeroBias/\",\n",
    "        # dataset=\"/ZeroBias/Run2024B-PromptReco-v1/DQMIO\",\n",
    "        run_number=runnb\n",
    "    ),\n",
    "    # max_pages=200\n",
    ")\n",
    "\n",
    "data_arr, data_df = extractdata(queryrslt=data, rtn_df=True)"
   ]
  },
  {
   "cell_type": "code",
   "execution_count": null,
   "id": "6d30ed05",
   "metadata": {},
   "outputs": [],
   "source": [
    "data_df.head(3)"
   ]
  },
  {
   "cell_type": "markdown",
   "id": "0ed3bf51",
   "metadata": {},
   "source": [
    "Getting information about data"
   ]
  },
  {
   "cell_type": "code",
   "execution_count": null,
   "id": "cf70635b",
   "metadata": {},
   "outputs": [],
   "source": [
    "# Extracting histogram data\n",
    "LSs = data_df[\"ls_number\"].unique()\n",
    "ME = data_df[\"me\"][0]\n",
    "num_bins = int(data_df[\"x_bin\"][0])\n",
    "\n",
    "x_min = data_df[\"x_min\"][0]\n",
    "x_max = data_df[\"x_max\"][0]\n",
    "x_bin = data_df[\"x_bin\"][0]\n",
    "bin_locs = np.linspace(x_min, x_max, num_bins)"
   ]
  },
  {
   "cell_type": "markdown",
   "id": "b51fdda9",
   "metadata": {},
   "source": [
    "Plotting"
   ]
  },
  {
   "cell_type": "code",
   "execution_count": null,
   "id": "baf83f40",
   "metadata": {},
   "outputs": [],
   "source": [
    "plotinteractive1D(data=data_arr, bin_locs=bin_locs, title=ME, x_label=\"Charge (e)\", y_label=\"Count\", plot=False)"
   ]
  },
  {
   "cell_type": "markdown",
   "id": "39461a4c",
   "metadata": {},
   "source": [
    "### Multiple Histograms\n",
    "\n",
    "Getting the data"
   ]
  },
  {
   "cell_type": "code",
   "execution_count": null,
   "id": "e2f5591f",
   "metadata": {},
   "outputs": [],
   "source": [
    "runnb = 380237\n",
    "\n",
    "data = dials.h1d.list_all(\n",
    "    LumisectionHistogram1DFilters(\n",
    "        me__regex=\"PixelPhase1/Tracks/PXBarrel/charge_PXLayer_\",\n",
    "        dataset__regex=\"/ZeroBias/\",\n",
    "        run_number=runnb\n",
    "    ),\n",
    ")\n",
    "\n",
    "data_arr, data_df = extractdata(queryrslt=data, rtn_df=True)"
   ]
  },
  {
   "cell_type": "code",
   "execution_count": null,
   "id": "4a3041ec",
   "metadata": {},
   "outputs": [],
   "source": [
    "data_df.head(8)"
   ]
  },
  {
   "cell_type": "code",
   "execution_count": null,
   "id": "1d92aad2",
   "metadata": {},
   "outputs": [],
   "source": [
    "# Extracting histogram data\n",
    "MEs = data_df[\"me\"].unique()\n",
    "bin_locs = []\n",
    "x_mins = []\n",
    "x_maxs = []\n",
    "num_bins = []\n",
    "\n",
    "for i, me in enumerate(MEs):\n",
    "    x_mins.append(data_df[data_df[\"me\"] == me][\"x_min\"][0])\n",
    "    x_maxs.append(data_df[data_df[\"me\"] == me][\"x_max\"][0])\n",
    "    num_bins.append(data_df[data_df[\"me\"] == me][\"x_bin\"][0])\n",
    "    print(num_bins)\n",
    "    # bin_locs.append(np.linspace(x_mins[i], x_maxs[i], num_bins[i]))\n",
    "\n",
    "\n",
    "\n",
    "\n",
    "# LSs = data2d_df[\"ls_number\"].unique()\n",
    "# ME = data2d_df[\"me\"][0]\n",
    "# num_xbins = int(data2d_df[\"x_bin\"][0])\n",
    "# num_ybins = int(data2d_df[\"y_bin\"][0])\n",
    "\n",
    "# x_min = data2d_df[\"x_min\"][0]\n",
    "# x_max = data2d_df[\"x_max\"][0]\n",
    "# x_bin = data2d_df[\"x_bin\"][0]\n",
    "# bin_xlocs = np.linspace(x_min, x_max, num_bins)\n",
    "\n",
    "# y_min = data2d_df[\"y_min\"][0]\n",
    "# y_max = data2d_df[\"y_max\"][0]\n",
    "# y_bin = data2d_df[\"y_bin\"][0]\n",
    "# bin_ylocs = np.linspace(y_min, y_max, num_ybins)"
   ]
  },
  {
   "cell_type": "code",
   "execution_count": null,
   "id": "06ce39bf",
   "metadata": {},
   "outputs": [],
   "source": [
    "multiplotinteractive1D(datas=data_arr, bin_locs = )"
   ]
  },
  {
   "cell_type": "markdown",
   "id": "ac157a1b",
   "metadata": {},
   "source": [
    "## Interactive 2D Monitoring Elements"
   ]
  },
  {
   "cell_type": "code",
   "execution_count": null,
   "id": "0c48f72a",
   "metadata": {},
   "outputs": [],
   "source": [
    "filter2d = LumisectionHistogram2DFilters(\n",
    "    run_number=runnb,\n",
    "    dataset__regex=\"/ZeroBias/\",\n",
    "    me=\"PixelPhase1/Tracks/PXBarrel/clusterposition_zphi_ontrack_PXLayer_1\"\n",
    ")\n",
    "\n",
    "data2d_queryrslt = dials.h2d.list_all(\n",
    "    filter2d\n",
    ")\n",
    "\n",
    "data2d_arr, data2d_df = extractdata(queryrslt=data2d_queryrslt, rtn_df=True)"
   ]
  },
  {
   "cell_type": "code",
   "execution_count": null,
   "id": "a56288e8",
   "metadata": {},
   "outputs": [],
   "source": [
    "data2d_df.head(3)"
   ]
  },
  {
   "cell_type": "markdown",
   "id": "d99e7a31",
   "metadata": {},
   "source": [
    "Getting information about data"
   ]
  },
  {
   "cell_type": "code",
   "execution_count": null,
   "id": "ee61573e",
   "metadata": {},
   "outputs": [],
   "source": [
    "# Extracting histogram data\n",
    "LSs = data2d_df[\"ls_number\"].unique()\n",
    "ME = data2d_df[\"me\"][0]\n",
    "num_xbins = int(data2d_df[\"x_bin\"][0])\n",
    "num_ybins = int(data2d_df[\"y_bin\"][0])\n",
    "\n",
    "x_min = data2d_df[\"x_min\"][0]\n",
    "x_max = data2d_df[\"x_max\"][0]\n",
    "x_bin = data2d_df[\"x_bin\"][0]\n",
    "bin_xlocs = np.linspace(x_min, x_max, num_bins)\n",
    "\n",
    "y_min = data2d_df[\"y_min\"][0]\n",
    "y_max = data2d_df[\"y_max\"][0]\n",
    "y_bin = data2d_df[\"y_bin\"][0]\n",
    "bin_ylocs = np.linspace(y_min, y_max, num_ybins)"
   ]
  },
  {
   "cell_type": "code",
   "execution_count": null,
   "id": "34636b87",
   "metadata": {},
   "outputs": [],
   "source": [
    "plotinteractive2D(data=data2d_arr, title=\"PixelPhase1/Tracks/PXBarrel/clusterposition_zphi_ontrack_PXLayer_1\", x_label=\"z\", y_label=\"phi\")"
   ]
  },
  {
   "cell_type": "code",
   "execution_count": null,
   "id": "7a445fa1",
   "metadata": {},
   "outputs": [],
   "source": []
  },
  {
   "cell_type": "markdown",
   "id": "53aff831",
   "metadata": {},
   "source": [
    "---\n",
    "## OLD CODE\n",
    "Whatever is useful here will be added on above"
   ]
  },
  {
   "cell_type": "code",
   "execution_count": null,
   "id": "0ec778aa",
   "metadata": {},
   "outputs": [],
   "source": [
    "data_lyr1 = data_df[data_df[\"me\"]==\"PixelPhase1/Tracks/PXBarrel/charge_PXLayer_1\"]\n",
    "\n",
    "histbins = data_lyr1[\"data\"].to_numpy(dtype=np.ndarray)\n",
    "histbins = np.array([np.array(x) for x in histbins])\n",
    "\n",
    "y_min = histbins.min()\n",
    "y_max = histbins.max()"
   ]
  },
  {
   "cell_type": "code",
   "execution_count": null,
   "id": "fad21ec9",
   "metadata": {
    "scrolled": false
   },
   "outputs": [],
   "source": [
    "fig = go.Figure()\n",
    "\n",
    "max_y = histbins.max()\n",
    "\n",
    "fig = go.Figure(\n",
    "    data=[\n",
    "        go.Bar(\n",
    "            x=bin_locs,\n",
    "            y=histbins[0,:],\n",
    "            visible=True,\n",
    "            width=np.diff(bin_locs)\n",
    "        )\n",
    "    ],\n",
    ")\n",
    "\n",
    "# Building steps\n",
    "steps = []\n",
    "for i in range(len(histbins)):\n",
    "    step = {\n",
    "        \"method\": \"restyle\",\n",
    "        \"args\": [{\"y\": [histbins[i, :]]}],\n",
    "        \"label\": str(i+1),\n",
    "    }\n",
    "    steps.append(step)\n",
    "\n",
    "# Building slider using steps defined above\n",
    "sliders = [\n",
    "    {\n",
    "        \"active\": 0,\n",
    "        \"currentvalue\": {\"prefix\": \"LS: \"},\n",
    "        \"pad\": {\"t\": 50},\n",
    "        \"steps\": steps,\n",
    "    }\n",
    "]\n",
    "\n",
    "# Passing all of this into the figure\n",
    "fig.update_layout(\n",
    "    sliders=sliders,\n",
    "    title=MEs[0],\n",
    "    xaxis={\n",
    "        \"title\": \"Charge (e)\"\n",
    "    },\n",
    "    yaxis={\n",
    "        \"range\": [0, max_y + 10],\n",
    "        \"title\": \"Count\"\n",
    "    },\n",
    "    bargap=0,\n",
    ")\n",
    "\n",
    "fig.show()"
   ]
  },
  {
   "cell_type": "code",
   "execution_count": null,
   "id": "3dfc44b5",
   "metadata": {},
   "outputs": [],
   "source": [
    "data_lyrs = []\n",
    "\n",
    "for i in range(0, 4):\n",
    "    data_onelyr = data_df[data_df[\"me\"]==f\"PixelPhase1/Tracks/PXBarrel/charge_PXLayer_{i+1}\"]\n",
    "    data_onelyr = data_onelyr[\"data\"].to_numpy(dtype=np.ndarray)\n",
    "    data_onelyr = np.array([np.array(x) for x in data_onelyr])\n",
    "    data_lyrs.append(data_onelyr)\n",
    "    \n",
    "num_ls = len(data_lyrs[0])"
   ]
  },
  {
   "cell_type": "code",
   "execution_count": null,
   "id": "1efc5c3d",
   "metadata": {},
   "outputs": [],
   "source": [
    "fig, axs = plt.subplots(2, 2, dpi=200)\n",
    "axs = axs.flatten()\n",
    "\n",
    "for i, ME in enumerate(MEs):\n",
    "    sns.heatmap(data_lyrs[i], ax=axs[i])\n",
    "    axs[i].set_title(ME, fontsize=5)\n",
    "    \n",
    "axs = axs.reshape(2,2)\n",
    "\n",
    "fig.subplots_adjust(hspace=0.5, wspace=0.5)\n",
    "\n",
    "plt.show()"
   ]
  },
  {
   "cell_type": "code",
   "execution_count": null,
   "id": "9397908f",
   "metadata": {},
   "outputs": [],
   "source": [
    "go.Heatmap??"
   ]
  },
  {
   "cell_type": "code",
   "execution_count": null,
   "id": "137f1e1a",
   "metadata": {
    "scrolled": false
   },
   "outputs": [],
   "source": [
    "fig = make_subplots(rows=2, cols=2, subplot_titles=MEs)\n",
    "\n",
    "for i, data in enumerate(data_lyrs):\n",
    "    row = (i // 2) + 1\n",
    "    col = (i % 2) + 1\n",
    "    fig.add_trace(\n",
    "        go.Heatmap(z=data, x=bin_locs, colorscale=\"Viridis\"),\n",
    "        row=row, col=col,\n",
    "    )\n",
    "\n",
    "fig.update_layout(\n",
    "    title_text = \"PX Barrel Charge\",\n",
    "    title_font={\"size\": 24},\n",
    "    height=1100,\n",
    "    width=1100,\n",
    "    annotations = [\n",
    "        {\"text\": ME, \"font\": {\"size\": 14}} for ME in MEs]\n",
    ")\n",
    "\n",
    "fig.update_yaxes(autorange=\"reversed\")\n",
    "\n",
    "fig.show()"
   ]
  },
  {
   "cell_type": "code",
   "execution_count": null,
   "id": "ca812de8",
   "metadata": {},
   "outputs": [],
   "source": [
    "make_subplots??"
   ]
  },
  {
   "cell_type": "code",
   "execution_count": null,
   "id": "b886b877",
   "metadata": {
    "scrolled": false
   },
   "outputs": [],
   "source": [
    "fig = make_subplots(\n",
    "    rows=2, cols=2, \n",
    "    subplot_titles=MEs,\n",
    "    vertical_spacing=0.15,\n",
    "    horizontal_spacing=0.05\n",
    ")\n",
    "\n",
    "# Adding the first LS\n",
    "for i, ME in enumerate(MEs):\n",
    "    fig.add_trace(go.Bar(x=bin_locs, y=data_lyrs[i][0], name=ME), row=i//2 + 1, col=i%2 + 1)\n",
    "\n",
    "# Making the steps to update to the rest of the LSs\n",
    "steps = []\n",
    "for i in range(num_ls):\n",
    "    step = {\n",
    "        'method': 'restyle',\n",
    "        'args': [\n",
    "            {'y': [data_lyrs[j][i,:] for j in range(len(data_lyrs))]},\n",
    "            np.arange(len(data_lyrs))  # Indices of the traces to modify\n",
    "        ],\n",
    "        'label': f'LS {i+1}'\n",
    "    }\n",
    "    steps.append(step)\n",
    "    \n",
    "sliders = [{\n",
    "    'active': 0,\n",
    "    'currentvalue': {'prefix': 'Lumisection: '},\n",
    "    'pad': {'t': 50},\n",
    "    'steps': steps\n",
    "}]\n",
    "\n",
    "# Adding elements and updating layout\n",
    "fig.update_layout(\n",
    "    sliders=sliders,\n",
    "    title=\"PX Barrel Charge\",\n",
    "    xaxis_title=\"Charge (e)\",\n",
    "    yaxis_title=\"Count\",\n",
    "    bargap=0,\n",
    "    showlegend=False,\n",
    "    width=1600,\n",
    "    height=900\n",
    ")\n",
    "\n",
    "for i in range(4):\n",
    "    fig.update_yaxes(title_text=\"Count\", range=[0, max_y + 10], row=(i//2) + 1, col=(i%2) + 1)\n",
    "\n",
    "fig.show()"
   ]
  },
  {
   "cell_type": "markdown",
   "id": "b64c32db",
   "metadata": {},
   "source": [
    "## 2D Histograms"
   ]
  },
  {
   "cell_type": "code",
   "execution_count": null,
   "id": "ff4184f6",
   "metadata": {},
   "outputs": [],
   "source": []
  }
 ],
 "metadata": {
  "@webio": {
   "lastCommId": null,
   "lastKernelId": null
  },
  "kernelspec": {
   "display_name": "Python 3",
   "language": "python",
   "name": "python3"
  },
  "language_info": {
   "codemirror_mode": {
    "name": "ipython",
    "version": 3
   },
   "file_extension": ".py",
   "mimetype": "text/x-python",
   "name": "python",
   "nbconvert_exporter": "python",
   "pygments_lexer": "ipython3",
   "version": "3.11.5"
  }
 },
 "nbformat": 4,
 "nbformat_minor": 5
}
