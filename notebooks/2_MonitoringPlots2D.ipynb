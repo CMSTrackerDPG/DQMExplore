{
 "cells": [
  {
   "cell_type": "markdown",
   "id": "0",
   "metadata": {},
   "source": [
    "# 2D Monitoring Element Exploration\n",
    "\n",
    "This notebooks provides some examples on how to access and visualize 2D monitoring elements using `cmsdials` and the visualization tools provided by `dqmexplore`."
   ]
  },
  {
   "cell_type": "markdown",
   "id": "1",
   "metadata": {},
   "source": [
    "## Imports"
   ]
  },
  {
   "cell_type": "code",
   "execution_count": null,
   "id": "2",
   "metadata": {},
   "outputs": [],
   "source": [
    "# Setting up DIALS object and importing dqmexplore\n",
    "import dqmexplore as dqme\n",
    "dials = dqme.utils.setupdials.setup_dials_object_deviceauth()"
   ]
  },
  {
   "cell_type": "code",
   "execution_count": null,
   "id": "3",
   "metadata": {},
   "outputs": [],
   "source": [
    "# Importing DIALS objects\n",
    "# For more information on DIALS, please visit https://github.com/cms-DQM/dials-py\n",
    "from cmsdials.filters import LumisectionHistogram2DFilters\n",
    "\n",
    "# Importing other useful packages\n",
    "import numpy as np\n",
    "import pandas as pd"
   ]
  },
  {
   "cell_type": "code",
   "execution_count": null,
   "id": "4",
   "metadata": {},
   "outputs": [],
   "source": [
    "# The following function can be used to search for the exact name of the monitoring element you wish to analyze\n",
    "dqme.utils.datautils.print_availMEs(\n",
    "    dials, \n",
    "    contains=\"\",\n",
    "    dims=2\n",
    ")"
   ]
  },
  {
   "cell_type": "markdown",
   "id": "5",
   "metadata": {},
   "source": [
    "## 2D Monitoring Elements"
   ]
  },
  {
   "cell_type": "code",
   "execution_count": null,
   "id": "6",
   "metadata": {},
   "outputs": [],
   "source": [
    "# Obtaininng ME data from DIALS\n",
    "runnb = 380238\n",
    "me__regex = \"Tracking/TrackParameters/highPurityTracks/pt_1/GeneralProperties/TrackEtaPhi_ImpactPoint_GenTk\"\n",
    "\n",
    "data2D = dials.h2d.list_all(\n",
    "    LumisectionHistogram2DFilters(\n",
    "        run_number = runnb,\n",
    "        dataset__regex = \"ZeroBias\",\n",
    "        me__regex = me__regex\n",
    "    ),\n",
    "    max_pages=200\n",
    ").to_pandas()\n",
    "\n",
    "medata = dqme.medata.MEData(data2D)\n",
    "\n",
    "print(\"Empty LSs for each ME:\\n\")\n",
    "for me in medata.getMENames():\n",
    "    print(\"{}:\".format(me), medata.getEmptyLSs(me))"
   ]
  },
  {
   "cell_type": "code",
   "execution_count": null,
   "id": "7",
   "metadata": {},
   "outputs": [],
   "source": [
    "# Getting trigger rate and plotting it\n",
    "trig_rate = dqme.oms.get_rate(dials, runnb)\n",
    "trig_rate_plot = dqme.oms.plot_rate(\n",
    "    trig_rate, \n",
    "    fig_title=\"Trigger Rate ({})\".format(runnb), \n",
    "    norm=False, \n",
    "    show=True\n",
    ")"
   ]
  },
  {
   "cell_type": "code",
   "execution_count": null,
   "id": "8",
   "metadata": {},
   "outputs": [],
   "source": [
    "# Plotting MEs\n",
    "fig = dqme.interplt.plot2DMEs(\n",
    "    medata,\n",
    "    plots_config = \"../configs/plots_configs/trackMEs_2D_plotconfig.json\",\n",
    "    figure_config = \"../configs/fig_configs/trackMEs_2D_figconfig.json\",\n",
    "    # trigger_rates=trig_rate, # Uncomment if you want to normalize by trigger rate\n",
    "    show=True,\n",
    ")"
   ]
  }
 ],
 "metadata": {
  "@webio": {
   "lastCommId": null,
   "lastKernelId": null
  },
  "kernelspec": {
   "display_name": "venv",
   "language": "python",
   "name": "python3"
  },
  "language_info": {
   "codemirror_mode": {
    "name": "ipython",
    "version": 3
   },
   "file_extension": ".py",
   "mimetype": "text/x-python",
   "name": "python",
   "nbconvert_exporter": "python",
   "pygments_lexer": "ipython3",
   "version": "3.11.11"
  }
 },
 "nbformat": 4,
 "nbformat_minor": 5
}
