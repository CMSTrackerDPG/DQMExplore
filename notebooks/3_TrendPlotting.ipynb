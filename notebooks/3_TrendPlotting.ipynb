{
 "cells": [
  {
   "cell_type": "markdown",
   "id": "0",
   "metadata": {},
   "source": [
    "# Trends Plotting\n",
    "\n",
    "This notebook is intended to showcase `dqmexplore`'s trend plotting tools."
   ]
  },
  {
   "cell_type": "markdown",
   "id": "1",
   "metadata": {},
   "source": [
    "### Imports"
   ]
  },
  {
   "cell_type": "code",
   "execution_count": null,
   "id": "2",
   "metadata": {},
   "outputs": [],
   "source": [
    "# Setting up DIALS object and importing dqmexplore\n",
    "import dqmexplore as dqme\n",
    "dials = dqme.utils.setupdials.setup_dials_object_deviceauth()"
   ]
  },
  {
   "cell_type": "code",
   "execution_count": null,
   "id": "3",
   "metadata": {},
   "outputs": [],
   "source": [
    "# Importing DIALS objects\n",
    "# For more information on DIALS, please visit https://github.com/cms-DQM/dials-py\n",
    "from cmsdials.filters import LumisectionHistogram1DFilters, LumisectionHistogram2DFilters\n",
    "\n",
    "# Importing other useful packages\n",
    "import numpy as np\n",
    "import pandas as pd"
   ]
  },
  {
   "cell_type": "markdown",
   "id": "4",
   "metadata": {},
   "source": [
    "If you run the following, you will get a list of all the available 1D MEs."
   ]
  },
  {
   "cell_type": "code",
   "execution_count": null,
   "id": "5",
   "metadata": {},
   "outputs": [],
   "source": [
    "dqme.utils.datautils.print_availMEs(\n",
    "    dials, \n",
    "    contains=\"\", \n",
    "    dims=1\n",
    ")"
   ]
  },
  {
   "cell_type": "markdown",
   "id": "6",
   "metadata": {},
   "source": [
    "## Using OMS to Obtain Metadata"
   ]
  },
  {
   "cell_type": "code",
   "execution_count": null,
   "id": "7",
   "metadata": {},
   "outputs": [],
   "source": [
    "# Getting trigger rate and plotting it\n",
    "runnb = 380238\n",
    "trig_rate = dqme.oms.get_rate(dials, runnb)\n",
    "trig_rate_plot = dqme.oms.plot_rate(\n",
    "    trig_rate, \n",
    "    fig_title=\"Trigger Rate ({})\".format(runnb), \n",
    "    norm=False, \n",
    "    show=True\n",
    ")"
   ]
  },
  {
   "cell_type": "markdown",
   "id": "8",
   "metadata": {},
   "source": [
    "## Trends"
   ]
  },
  {
   "cell_type": "code",
   "execution_count": null,
   "id": "9",
   "metadata": {},
   "outputs": [],
   "source": [
    "runnb = 380238\n",
    "me__regex =  \"PixelPhase1/Tracks/PXBarrel/charge_PXLayer_(1|2)\" \n",
    "\n",
    "data1D = dials.h1d.list_all(\n",
    "    LumisectionHistogram1DFilters(\n",
    "        run_number = runnb,\n",
    "        dataset__regex = \"ZeroBias\",\n",
    "        me__regex = me__regex\n",
    "    ),\n",
    "    # max_pages=200\n",
    ").to_pandas()\n",
    "\n",
    "medata =  dqme.medata.MEData(data1D)"
   ]
  },
  {
   "cell_type": "code",
   "execution_count": null,
   "id": "10",
   "metadata": {},
   "outputs": [],
   "source": [
    "# Computing trend variables\n",
    "trends = dqme.trends.compute_trends(medata, trigger_rates = trig_rate)\n",
    "\n",
    "me = \"PixelPhase1/Tracks/PXBarrel/charge_PXLayer_1\"\n",
    "trend_names = np.array([\"Mean\", \"Standard Deviation\", \"MPV\", \"Max\"])\n",
    "ylabels = [l.format(trend_names[i]) for i, l in enumerate([\"Charge (e)\"] * len(trend_names))]\n",
    "\n",
    "fig_titles = np.char.add(\n",
    "    [f\"Run {runnb} PX Layer 1 Charge \"] * 4,\n",
    "    trend_names\n",
    ")\n",
    "\n",
    "# Plotting trend variables\n",
    "dqme.trends.plot_trends(trends, me, fig_titles=fig_titles, norm=False, ylabels=ylabels, log=False)"
   ]
  }
 ],
 "metadata": {
  "@webio": {
   "lastCommId": null,
   "lastKernelId": null
  },
  "kernelspec": {
   "display_name": "venv",
   "language": "python",
   "name": "python3"
  },
  "language_info": {
   "codemirror_mode": {
    "name": "ipython",
    "version": 3
   },
   "file_extension": ".py",
   "mimetype": "text/x-python",
   "name": "python",
   "nbconvert_exporter": "python",
   "pygments_lexer": "ipython3",
   "version": "3.11.11"
  }
 },
 "nbformat": 4,
 "nbformat_minor": 5
}
