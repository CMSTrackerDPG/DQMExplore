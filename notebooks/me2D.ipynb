{
 "cells": [
  {
   "cell_type": "markdown",
   "id": "0",
   "metadata": {},
   "source": [
    "# 2D Monitoring Element Exploration\n",
    "\n",
    "This notebooks provides some examples on how to access and visualize 2D monitoring elements using `cmsdials` and the visualization tools provided by `dqmexplore`."
   ]
  },
  {
   "cell_type": "markdown",
   "id": "1",
   "metadata": {},
   "source": [
    "## Imports"
   ]
  },
  {
   "cell_type": "code",
   "execution_count": null,
   "id": "2",
   "metadata": {},
   "outputs": [],
   "source": [
    "# Setting up DIALS object and importing dqmexplore\n",
    "import sys\n",
    "sys.path.append(\"../src/\")\n",
    "import dqmexplore as dqme\n",
    "dials = dqme.utils.setupdials.setup_dials_object_deviceauth()"
   ]
  },
  {
   "cell_type": "code",
   "execution_count": null,
   "id": "3",
   "metadata": {},
   "outputs": [],
   "source": [
    "# Importing DIALS objects\n",
    "# For more information on DIALS, please visit https://github.com/cms-DQM/dials-py\n",
    "from cmsdials.filters import LumisectionHistogram1DFilters, LumisectionHistogram2DFilters\n",
    "\n",
    "# Importing other useful packages\n",
    "import numpy as np\n",
    "import pandas as pd"
   ]
  },
  {
   "cell_type": "code",
   "execution_count": null,
   "id": "4",
   "metadata": {},
   "outputs": [],
   "source": [
    "# The following function can be used to search for the exact name of the monitoring element you wish to analyze\n",
    "dqme.utils.datautils.print_availMEs(\n",
    "    dials, \n",
    "    contains=\"PixelPhase1/Tracks/PXBarrel/clusterposition_zphi_ontrack_PXLayer_\", \n",
    "    dims=2\n",
    ")"
   ]
  },
  {
   "cell_type": "markdown",
   "id": "5",
   "metadata": {},
   "source": [
    "## 2D Monitoring Elements"
   ]
  },
  {
   "cell_type": "code",
   "execution_count": null,
   "id": "6",
   "metadata": {},
   "outputs": [],
   "source": [
    "# Obtaininng ME data from DIALS\n",
    "runnb = 380238\n",
    "me__regex = \"PixelPhase1/Tracks/PXBarrel/clusterposition_zphi_ontrack_PXLayer_.\"\n",
    "\n",
    "data2D = dials.h2d.list_all(\n",
    "    LumisectionHistogram1DFilters(\n",
    "        run_number = runnb,\n",
    "        dataset__regex = \"ZeroBias\",\n",
    "        me__regex = me__regex\n",
    "    ),\n",
    "    max_pages=200\n",
    ").to_pandas()\n",
    "\n",
    "medata = dqme.medata.MEData(data2D)\n",
    "\n",
    "print(\"Empty LSs for each ME:\\n\")\n",
    "for me in medata.getMENames():\n",
    "    print(\"{}:\".format(me), medata.getEmptyLSs(me))"
   ]
  },
  {
   "cell_type": "code",
   "execution_count": null,
   "id": "7",
   "metadata": {},
   "outputs": [],
   "source": [
    "# Getting trigger rate and plotting it\n",
    "trig_rate = dqme.oms.get_rate(dials, runnb)\n",
    "trig_rate_plot = dqme.oms.plot_rate(\n",
    "    trig_rate, \n",
    "    fig_title=\"Trigger Rate ({})\".format(runnb), \n",
    "    norm=False, \n",
    "    show=True\n",
    ")"
   ]
  },
  {
   "cell_type": "code",
   "execution_count": null,
   "id": "8",
   "metadata": {},
   "outputs": [],
   "source": [
    "# Defining plot features and plotting\n",
    "ax_labels = [\n",
    "    dict(x=\"SignedModuleCoord\", y=\"SignedLadderCoord\")\n",
    "] * 4\n",
    "\n",
    "fig_title = f\"Pixel Barrel Digi Occupancy Normalized by Trigger Rate (Run {runnb})\"\n",
    "\n",
    "fig2D = dqme.interplt.plot2DMEs(\n",
    "    medata,\n",
    "    fig_title=fig_title,\n",
    "    ax_labels=ax_labels,\n",
    "    # trigger_rates=trig_rate,\n",
    "    height=800,\n",
    "    width=1250,\n",
    "    hspace=0.2,\n",
    "    show=True\n",
    ")"
   ]
  },
  {
   "cell_type": "markdown",
   "id": "9",
   "metadata": {},
   "source": [
    "The figure constructed above can be further modified using `plotly`."
   ]
  },
  {
   "cell_type": "code",
   "execution_count": null,
   "id": "10",
   "metadata": {},
   "outputs": [],
   "source": [
    "import plotly\n",
    "import plotly.graph_objects as go\n",
    "from plotly.subplots import make_subplots\n",
    "\n",
    "# Add modifications to fig2D here.\n"
   ]
  },
  {
   "cell_type": "markdown",
   "id": "11",
   "metadata": {},
   "source": [
    "And you can also save the figure by running the folling cell."
   ]
  },
  {
   "cell_type": "code",
   "execution_count": null,
   "id": "12",
   "metadata": {},
   "outputs": [],
   "source": [
    "# You can set show=False and export the figure to an HTML file by also running the code below\n",
    "from plotly.offline import plot\n",
    "plot(fig2D, filename=f\"./fig2d.html\")"
   ]
  }
 ],
 "metadata": {
  "@webio": {
   "lastCommId": null,
   "lastKernelId": null
  },
  "kernelspec": {
   "display_name": "Python 3",
   "language": "python",
   "name": "python3"
  },
  "language_info": {
   "codemirror_mode": {
    "name": "ipython",
    "version": 3
   },
   "file_extension": ".py",
   "mimetype": "text/x-python",
   "name": "python",
   "nbconvert_exporter": "python",
   "pygments_lexer": "ipython3",
   "version": "3.9.12"
  }
 },
 "nbformat": 4,
 "nbformat_minor": 5
}
