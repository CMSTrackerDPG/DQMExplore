{
 "cells": [
  {
   "cell_type": "markdown",
   "id": "8e48e2a7",
   "metadata": {},
   "source": [
    "# 2D Monitoring Element Exploration\n",
    "\n",
    "This notebooks provides some examples on how to access and visualize 2D monitoring elements using `cmsdials` and the visualization tools provided by `dqmexplore`."
   ]
  },
  {
   "cell_type": "markdown",
   "id": "caf9664f",
   "metadata": {},
   "source": [
    "## Imports"
   ]
  },
  {
   "cell_type": "code",
   "execution_count": null,
   "id": "70b2ddfd",
   "metadata": {},
   "outputs": [],
   "source": [
    "# Setting up DIALS object and importing dqmexplore\n",
    "import sys\n",
    "sys.path.append(\"../src/\")\n",
    "\n",
    "from utils.setupdials import setup_dials_object_deviceauth\n",
    "dials = setup_dials_object_deviceauth()\n",
    "\n",
    "import dqmexplore as dqme"
   ]
  },
  {
   "cell_type": "code",
   "execution_count": null,
   "id": "37fc8665-c6a1-4775-804f-64a9f266e72f",
   "metadata": {},
   "outputs": [],
   "source": [
    "# Importing DIALS objects\n",
    "# For more information on DIALS, please visit https://github.com/cms-DQM/dials-py\n",
    "from cmsdials.filters import LumisectionHistogram1DFilters, LumisectionHistogram2DFilters\n",
    "\n",
    "# Importing other essential packages\n",
    "import numpy as np\n",
    "import pandas as pd"
   ]
  },
  {
   "cell_type": "code",
   "execution_count": null,
   "id": "ae83d38e-eb91-4c49-8713-dbf878525523",
   "metadata": {},
   "outputs": [],
   "source": [
    "# Run this cell to see the list of all available 2D MEs\n",
    "mes_df = pd.DataFrame([me_qry_rslt.__dict__ for me_qry_rslt in dials.mes.list()])\n",
    "avail_mes_df = mes_df[mes_df[\"dim\"] == 2]\n",
    "\n",
    "metype_names = []\n",
    "for me in avail_mes_df[\"me\"]:\n",
    "    metype_name = me.split(\"/\")[0]\n",
    "    if metype_name not in metype_names: metype_names.append(metype_name)\n",
    "        \n",
    "print(\"Available types of MEs:\", metype_names)\n",
    "for me in avail_mes_df[avail_mes_df[\"me\"].str.contains(metype_names[0])][\"me\"]:\n",
    "    print(me)\n",
    "avail_mes_df"
   ]
  },
  {
   "cell_type": "markdown",
   "id": "c71e2240",
   "metadata": {},
   "source": [
    "## 2D Monitoring Elements"
   ]
  },
  {
   "cell_type": "code",
   "execution_count": null,
   "id": "19adf752",
   "metadata": {},
   "outputs": [],
   "source": [
    "# Obtaininng ME data from DIALS\n",
    "runnb = 380238\n",
    "me__regex = \"PixelPhase1/Phase1_MechanicalView/PXBarrel/digi_occupancy_per_SignedModuleCoord_per_SignedLadderCoord_PXLayer_(1|2)\"\n",
    "\n",
    "data2D = dials.h2d.list_all(\n",
    "    LumisectionHistogram1DFilters(\n",
    "        run_number = runnb,\n",
    "        dataset__regex = \"ZeroBias\",\n",
    "        me__regex = me__regex\n",
    "    ),\n",
    "    # max_pages=200\n",
    ").to_pandas()\n",
    "\n",
    "# Checking of any empty LSs in the selected MEs\n",
    "dqme.exploreutils.check_empty_lss(data2D)"
   ]
  },
  {
   "cell_type": "code",
   "execution_count": null,
   "id": "55ca3715",
   "metadata": {},
   "outputs": [],
   "source": [
    "# Getting trigger rate and plotting it\n",
    "trig_rate = dqme.omsutils.get_rate(dials, runnb, \"ZeroBias\")\n",
    "dqme.omsutils.plot_rate(trigratedata, norm=False, show=True)"
   ]
  },
  {
   "cell_type": "code",
   "execution_count": null,
   "id": "110cdaf2",
   "metadata": {},
   "outputs": [],
   "source": [
    "# Defining plot features and plotting\n",
    "ax_labels = [\n",
    "    dict(x=\"SignedModuleCoord\", y=\"SignedLadderCoord\")\n",
    "] * 4\n",
    "\n",
    "fig_title = f\"Pixel Barrel Digi Occupancy Normalized by Trigger Rate (Run {runnb})\"\n",
    "\n",
    "fig2D = dqme.plotting.plot2DMEs(\n",
    "    data2D,\n",
    "    fig_title=fig_title,\n",
    "    ax_labels=ax_labels,\n",
    "    trigger_rates=trig_rate,\n",
    "    height=800,\n",
    "    width=1250,\n",
    "    hspace=0.2,\n",
    "    show=True\n",
    ")"
   ]
  },
  {
   "cell_type": "markdown",
   "id": "440eaa81-cd4c-40f2-b103-ac65f48eb8ad",
   "metadata": {},
   "source": [
    "If you wish to further modify the figure `dqmexplore` gives you, you can do so by setting `show=False`, and using `plotly` to change the elements of the plot."
   ]
  },
  {
   "cell_type": "code",
   "execution_count": null,
   "id": "70b52139-a30c-454d-b5bd-b1978162b521",
   "metadata": {},
   "outputs": [],
   "source": [
    "import plotly\n",
    "import plotly.graph_objects as go\n",
    "from plotly.subplots import make_subplots\n",
    "\n",
    "# Add modifications to fig2D here.\n"
   ]
  },
  {
   "cell_type": "markdown",
   "id": "3e80c478-ce13-417f-9cca-adf25c0a3ffd",
   "metadata": {},
   "source": [
    "And if you wish to export the plot to an HTML file, you can run the code show below after setting `show=False`."
   ]
  },
  {
   "cell_type": "code",
   "execution_count": null,
   "id": "a10a675d-dc86-4f12-8f5f-9f149bc0c7fb",
   "metadata": {},
   "outputs": [],
   "source": [
    "# You can set show=False and export the figure to an HTML file by also running the code below\n",
    "from plotly.offline import plot\n",
    "plot(fig2D, filename=f\"./fig2d.html\")"
   ]
  }
 ],
 "metadata": {
  "@webio": {
   "lastCommId": null,
   "lastKernelId": null
  },
  "kernelspec": {
   "display_name": "Python 3",
   "language": "python",
   "name": "python3"
  },
  "language_info": {
   "codemirror_mode": {
    "name": "ipython",
    "version": 3
   },
   "file_extension": ".py",
   "mimetype": "text/x-python",
   "name": "python",
   "nbconvert_exporter": "python",
   "pygments_lexer": "ipython3",
   "version": "3.9.12"
  }
 },
 "nbformat": 4,
 "nbformat_minor": 5
}
