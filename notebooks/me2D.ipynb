{
 "cells": [
  {
   "cell_type": "markdown",
   "id": "8e48e2a7",
   "metadata": {},
   "source": [
    "# 2D Monitoring Element Exploration\n",
    "\n",
    "This notebook is intended to showcase `dqmexplore`'s 2D monitoring element (ME) exploration tools.\n",
    "\n",
    "## Setup\n",
    "\n",
    "If you are working in SWAN, you will need to install the `omsapi` as well as `dqmexplore` itself."
   ]
  },
  {
   "cell_type": "code",
   "execution_count": null,
   "id": "e893d127",
   "metadata": {},
   "outputs": [],
   "source": [
    "# Run this if you are in SWAN\n",
    "# Package installation/updating\n",
    "!pip3 install -e .. --no-dependencies\n",
    "!pip3 install omsapi\n",
    "!pip3 install cmsdials --upgrade"
   ]
  },
  {
   "cell_type": "markdown",
   "id": "caf9664f",
   "metadata": {},
   "source": [
    "### Imports"
   ]
  },
  {
   "cell_type": "code",
   "execution_count": null,
   "id": "70b2ddfd",
   "metadata": {},
   "outputs": [],
   "source": [
    "# DIALS API\n",
    "# For more information on DIALS, please visit https://github.com/cms-DQM/dials-py\n",
    "import cmsdials\n",
    "from cmsdials.auth.client import AuthClient\n",
    "from cmsdials.auth.bearer import Credentials\n",
    "from cmsdials import Dials\n",
    "from cmsdials.filters import LumisectionHistogram1DFilters, LumisectionHistogram2DFilters\n",
    "\n",
    "auth = AuthClient()\n",
    "token = auth.device_auth_flow()\n",
    "creds = Credentials.from_authclient_token(token)\n",
    "dials = Dials(creds)"
   ]
  },
  {
   "cell_type": "markdown",
   "id": "fc7b6601",
   "metadata": {},
   "source": [
    "Run your prefered authentication method for the OMS API. For more information on the OMS API, please visit https://gitlab.cern.ch/cmsoms/oms-api-client"
   ]
  },
  {
   "cell_type": "code",
   "execution_count": null,
   "id": "58d16585",
   "metadata": {},
   "outputs": [],
   "source": [
    "# Method 1: krb\n",
    "import omsapi\n",
    "\n",
    "oms_fetch = omsapi.OMSAPI(\"https://cmsoms.cern.ch/agg/api\", \"v1\", cert_verify=False)\n",
    "oms_fetch.auth_krb()"
   ]
  },
  {
   "cell_type": "code",
   "execution_count": null,
   "metadata": {},
   "outputs": [],
   "source": [
    "# Method 2: oidc\n",
    "import omsapi\n",
    "import json\n",
    "\n",
    "with open(\"./clientid.json\", \"r\") as file:\n",
    "    secrets = json.load(file)\n",
    "\n",
    "oms_fetch = omsapi.OMSAPI(\"http://vocms0185.cern.ch/agg/api\", \"v1\", cert_verify=False)\n",
    "oms_fetch.auth_oidc(secrets[\"API_CLIENT_ID\"], secrets[\"API_CLIENT_SECRET\"], audience=\"cmsoms-int-0185\")\n",
    "\n",
    "del(secrets)\n",
    "del(file)"
   ]
  },
  {
   "cell_type": "code",
   "execution_count": null,
   "id": "4640fce6",
   "metadata": {},
   "outputs": [],
   "source": [
    "# DQMExplore\n",
    "import dqmexplore\n",
    "from dqmexplore.plotting import plot2DMEs\n",
    "from dqmexplore.omsutils import get_rate, plot_rate\n",
    "\n",
    "# Plotly\n",
    "import plotly\n",
    "import plotly.graph_objects as go\n",
    "from plotly.subplots import make_subplots\n",
    "from plotly.offline import plot\n",
    "\n",
    "# Other useful libraries for data exploration, manipulation and processing\n",
    "import numpy as np\n",
    "import pandas as pd"
   ]
  },
  {
   "cell_type": "markdown",
   "id": "524b537d",
   "metadata": {},
   "source": [
    "If you run the following, you will get a list of all the available 1D MEs."
   ]
  },
  {
   "cell_type": "code",
   "execution_count": null,
   "id": "c33b15c7",
   "metadata": {},
   "outputs": [],
   "source": [
    "mes_df = pd.DataFrame([me_qry_rslt.__dict__ for me_qry_rslt in dials.mes.list()])\n",
    "mes_df[mes_df[\"dim\"] == 2]"
   ]
  },
  {
   "cell_type": "markdown",
   "id": "d959674c",
   "metadata": {},
   "source": [
    "## Using OMS to Obtain Metadata"
   ]
  },
  {
   "cell_type": "markdown",
   "id": "c8f6e95e",
   "metadata": {},
   "source": [
    "Using the OMS API, we can access important information regarding the run conditions and other information about the run. The available endpoints are:\n",
    "\n",
    "* `lumisections`\n",
    "* `runs`\n",
    "* `fills`\n",
    "* `datasetrates`\n",
    "\n",
    "You can access the trigger rate* in the following way:\n",
    "\n",
    "*HLT ZeroBias trigger rate"
   ]
  },
  {
   "cell_type": "code",
   "execution_count": null,
   "id": "67a4a94f",
   "metadata": {},
   "outputs": [],
   "source": [
    "runnb = 380238\n",
    "omstrig_df = get_rate(oms_fetch, runnb, \"ZeroBias\")\n",
    "fig = plot_rate(omstrig_df, norm=False, show=True)\n",
    "\n",
    "# Optionally, you can export the Plotly figure object dqmexplore returns. Just remember to set show=False in plot_rate\n",
    "# plot(fig, filename=f\"./plots/trigrate_{runnb}.html\")"
   ]
  },
  {
   "cell_type": "markdown",
   "id": "c71e2240",
   "metadata": {},
   "source": [
    "## 2D Monitoring Elements"
   ]
  },
  {
   "cell_type": "markdown",
   "id": "4a1ff88b",
   "metadata": {},
   "source": [
    "2D monitoring elements are also available in DIALS and they can be accessed as shown below."
   ]
  },
  {
   "cell_type": "code",
   "execution_count": null,
   "id": "19adf752",
   "metadata": {},
   "outputs": [],
   "source": [
    "runnb = 378981\n",
    "me__regex = \"PixelPhase1/Phase1_MechanicalView/PXBarrel/digi_occupancy_per_SignedModuleCoord_per_SignedLadderCoord_PXLayer_.\"\n",
    "# me__regex = \"(PixelPhase1/Phase1_MechanicalView/PXBarrel/digi_occupancy_per_SignedModuleCoord_per_SignedLadderCoord_PXLayer_(1|2|3))|(PixelPhase1/Tracks/clusterposition_zphi_ontrack)\"\n",
    "# me__regex = \"PixelPhase1/Tracks/PXForward/clusterposition_xy_ontrack_PXDisk_+.\"\n",
    "\n",
    "data2D = dials.h2d.list_all(\n",
    "    LumisectionHistogram1DFilters(\n",
    "        run_number = runnb,\n",
    "        dataset__regex = \"ZeroBias\",\n",
    "        me__regex = me__regex\n",
    "    ),\n",
    "    # max_pages=200\n",
    ").to_pandas()"
   ]
  },
  {
   "cell_type": "code",
   "execution_count": null,
   "id": "55ca3715",
   "metadata": {},
   "outputs": [],
   "source": [
    "# Getting trigger rate\n",
    "trig_rate = get_rate(oms_fetch, runnb, \"ZeroBias\", dataframe=False)"
   ]
  },
  {
   "cell_type": "code",
   "execution_count": 9,
   "id": "110cdaf2",
   "metadata": {},
   "outputs": [],
   "source": [
    "# Defining plot features\n",
    "ax_labels = [\n",
    "    dict(x=\"SignedModuleCoord\", y=\"SignedLadderCoord\")\n",
    "] * 4\n",
    "\n",
    "fig_title = f\"Pixel Barrel Digi Occupancy Normalized by Trigger Rate (Run {runnb})\"\n",
    "\n",
    "fig2D = plot2DMEs(\n",
    "    data2D,\n",
    "    fig_title=fig_title,\n",
    "    ax_labels=ax_labels,\n",
    "    trigger_rates=trig_rate,\n",
    "    height=500,\n",
    "    width=500,\n",
    "    show=True\n",
    ")\n",
    "\n",
    "# plot(fig2D, filename=f\"PixelBarrelDigiOccupancy-run{runnb}-trignorm.html\"))\n",
    "# fig2D.write_html(\"plot.html\", include_plotlyjs=\"cdn\")"
   ]
  }
 ],
 "metadata": {
  "@webio": {
   "lastCommId": null,
   "lastKernelId": null
  },
  "kernelspec": {
   "display_name": "Python 3",
   "language": "python",
   "name": "python3"
  },
  "language_info": {
   "codemirror_mode": {
    "name": "ipython",
    "version": 3
   },
   "file_extension": ".py",
   "mimetype": "text/x-python",
   "name": "python",
   "nbconvert_exporter": "python",
   "pygments_lexer": "ipython3",
   "version": "3.11.7"
  }
 },
 "nbformat": 4,
 "nbformat_minor": 5
}
