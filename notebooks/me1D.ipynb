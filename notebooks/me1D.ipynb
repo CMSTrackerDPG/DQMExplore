{
 "cells": [
  {
   "cell_type": "markdown",
   "id": "8e48e2a7",
   "metadata": {},
   "source": [
    "# 1D Monitoring Element Exploration\n",
    "\n",
    "This notebook is intended to showcase `dqmexplore`'s 1D monitoring element (ME) exploration tools.\n",
    "\n",
    "## Setup\n",
    "\n",
    "If you are working in SWAN, you will need to install the `omsapi` as well as `dqmexplore` itself."
   ]
  },
  {
   "cell_type": "code",
   "execution_count": null,
   "id": "e893d127",
   "metadata": {},
   "outputs": [],
   "source": [
    "# Run this if you are in SWAN\n",
    "# Package installation/updating\n",
    "!pip3 install -e .. --no-dependencies\n",
    "!pip3 install omsapi\n",
    "!pip3 install cmsdials --upgrade"
   ]
  },
  {
   "cell_type": "markdown",
   "id": "caf9664f",
   "metadata": {},
   "source": [
    "### Imports"
   ]
  },
  {
   "cell_type": "code",
   "execution_count": null,
   "id": "70b2ddfd",
   "metadata": {},
   "outputs": [],
   "source": [
    "# DIALS API\n",
    "# For more information on DIALS, please visit https://github.com/cms-DQM/dials-py\n",
    "import cmsdials\n",
    "from cmsdials.auth.client import AuthClient\n",
    "from cmsdials.auth.bearer import Credentials\n",
    "from cmsdials import Dials\n",
    "from cmsdials.filters import LumisectionHistogram1DFilters, LumisectionHistogram2DFilters\n",
    "\n",
    "auth = AuthClient()\n",
    "token = auth.device_auth_flow()\n",
    "creds = Credentials.from_authclient_token(token)\n",
    "dials = Dials(creds)"
   ]
  },
  {
   "cell_type": "markdown",
   "id": "fc7b6601",
   "metadata": {},
   "source": [
    "Run your prefered authentication method for the OMS API. For more information on the OMS API, please visit https://gitlab.cern.ch/cmsoms/oms-api-client"
   ]
  },
  {
   "cell_type": "code",
   "execution_count": null,
   "id": "58d16585",
   "metadata": {},
   "outputs": [],
   "source": [
    "# Method 1: krb\n",
    "import omsapi\n",
    "\n",
    "oms_fetch = omsapi.OMSAPI(\"https://cmsoms.cern.ch/agg/api\", \"v1\", cert_verify=False)\n",
    "oms_fetch.auth_krb()"
   ]
  },
  {
   "cell_type": "code",
   "execution_count": null,
   "metadata": {},
   "outputs": [],
   "source": [
    "# Method 2: oidc\n",
    "import omsapi\n",
    "import json\n",
    "\n",
    "with open(\"./clientid.json\", \"r\") as file:\n",
    "    secrets = json.load(file)\n",
    "\n",
    "oms_fetch = omsapi.OMSAPI(\"http://vocms0185.cern.ch/agg/api\", \"v1\", cert_verify=False)\n",
    "oms_fetch.auth_oidc(secrets[\"API_CLIENT_ID\"], secrets[\"API_CLIENT_SECRET\"], audience=\"cmsoms-int-0185\")\n",
    "\n",
    "del(secrets)\n",
    "del(file)"
   ]
  },
  {
   "cell_type": "code",
   "execution_count": null,
   "id": "4640fce6",
   "metadata": {},
   "outputs": [],
   "source": [
    "# DQMExplore\n",
    "import dqmexplore\n",
    "from dqmexplore.plotting import plot1DMEs\n",
    "from dqmexplore.exploreutils import check_empty_lss\n",
    "from dqmexplore.dataproc import generate_me_dict\n",
    "from dqmexplore.statplotting import plotheatmaps1D, plotMEs1D_static\n",
    "from dqmexplore.omsutils import get_rate, plot_rate\n",
    "from dqmexplore.trends import compute_trends, plot_trends \n",
    "\n",
    "# Plotly\n",
    "import plotly\n",
    "import plotly.graph_objects as go\n",
    "from plotly.subplots import make_subplots\n",
    "from plotly.offline import plot\n",
    "\n",
    "# Other useful libraries for data exploration, manipulation and processing\n",
    "import numpy as np\n",
    "import pandas as pd"
   ]
  },
  {
   "cell_type": "markdown",
   "id": "524b537d",
   "metadata": {},
   "source": [
    "If you run the following, you will get a list of all the available 1D MEs."
   ]
  },
  {
   "cell_type": "code",
   "execution_count": null,
   "id": "c33b15c7",
   "metadata": {},
   "outputs": [],
   "source": [
    "mes_df = pd.DataFrame([me_qry_rslt.__dict__ for me_qry_rslt in dials.mes.list()])\n",
    "mes_df[mes_df[\"dim\"] == 1]"
   ]
  },
  {
   "cell_type": "markdown",
   "id": "d959674c",
   "metadata": {},
   "source": [
    "## Using OMS to Obtain Metadata"
   ]
  },
  {
   "cell_type": "markdown",
   "id": "c8f6e95e",
   "metadata": {},
   "source": [
    "Using the OMS API, we can access important information regarding the run conditions and other information about the run. The available endpoints are:\n",
    "\n",
    "* `lumisections`\n",
    "* `runs`\n",
    "* `fills`\n",
    "* `datasetrates`\n",
    "\n",
    "You can access the trigger rate* in the following way:\n",
    "\n",
    "*HLT ZeroBias trigger rate"
   ]
  },
  {
   "cell_type": "code",
   "execution_count": null,
   "id": "67a4a94f",
   "metadata": {},
   "outputs": [],
   "source": [
    "runnb = 380238\n",
    "omstrig_df = get_rate(oms_fetch, runnb, \"ZeroBias\")\n",
    "fig = plot_rate(omstrig_df, norm=False, show=True)\n",
    "\n",
    "# Optionally, you can export the Plotly figure object dqmexplore returns. Just remember to set show=False in plot_rate\n",
    "# plot(fig, filename=f\"./plots/trigrate_{runnb}.html\")"
   ]
  },
  {
   "cell_type": "markdown",
   "id": "de01be59",
   "metadata": {},
   "source": [
    "## 1D Monitoring Elements"
   ]
  },
  {
   "cell_type": "markdown",
   "id": "05d4153b",
   "metadata": {},
   "source": [
    "We fetch data from DIALS as shown here. For more information on how to use the DIALS Python API, please refer to the [official repository](https://github.com/cms-DQM/dials-py). If you are unfamiliar with regex syntax, you can take a look at the following [cheat sheet](https://www.rexegg.com/regex-quickstart.html) for a quick overview."
   ]
  },
  {
   "cell_type": "code",
   "execution_count": null,
   "id": "b8c201e1",
   "metadata": {},
   "outputs": [],
   "source": [
    "# Getting current run data\n",
    "runnb = 380238\n",
    "me__regex =  \"PixelPhase1/Tracks/PXBarrel/charge_PXLayer_.\" \n",
    "\n",
    "data1D = dials.h1d.list_all(\n",
    "    LumisectionHistogram1DFilters(\n",
    "        run_number = runnb,\n",
    "        dataset__regex = \"ZeroBias\",\n",
    "        me__regex = me__regex\n",
    "    ),\n",
    "    # max_pages=200\n",
    ").to_pandas()"
   ]
  },
  {
   "cell_type": "code",
   "execution_count": null,
   "id": "be787f6b",
   "metadata": {},
   "outputs": [],
   "source": [
    "# Getting current run trigger rate\n",
    "trig_rate = get_rate(oms_fetch, runnb, \"ZeroBias\", dataframe=False)"
   ]
  },
  {
   "cell_type": "code",
   "execution_count": null,
   "id": "f970e5ae",
   "metadata": {},
   "outputs": [],
   "source": [
    "# Checking for empty LSs, empty here meaning that the number of entries in the historgram is less than the set threshold (default=10)\n",
    "print(\"Empty/Near empty LSs:\")\n",
    "pd.DataFrame(check_empty_lss(generate_me_dict(data1D))).T"
   ]
  },
  {
   "cell_type": "code",
   "execution_count": null,
   "id": "2ab11266",
   "metadata": {},
   "outputs": [],
   "source": [
    "# Getting reference data\n",
    "refrun = 379765\n",
    "\n",
    "refdata1D = dials.h1d.list_all(\n",
    "    LumisectionHistogram1DFilters(\n",
    "        run_number = refrun,\n",
    "        dataset__regex = \"ZeroBias\",\n",
    "        me__regex = me__regex\n",
    "    ),\n",
    "    # max_pages=200\n",
    ").to_pandas()"
   ]
  },
  {
   "cell_type": "code",
   "execution_count": null,
   "id": "46a95882",
   "metadata": {},
   "outputs": [],
   "source": [
    "# Defining plot features\n",
    "ax_labels = [\n",
    "    dict(\n",
    "        x=\"Charge (e)\", \n",
    "        y=\"Count\"\n",
    "    )\n",
    "] * 4\n",
    "\n",
    "fig_title = f\"Pixel Barrel Charge Normalized (Run {runnb})\"\n",
    "\n",
    "# Plotting\n",
    "fig = plot1DMEs(\n",
    "    data1D, \n",
    "    fig_title=fig_title,\n",
    "    ax_labels=ax_labels, \n",
    "    width=1000,\n",
    "    height=1000,\n",
    "    vspace=0.1,\n",
    "    trigger_rates=trig_rate, \n",
    "    # norm=True,\n",
    "    # ref_df=refdata1D\n",
    "    show=True\n",
    ")\n",
    "\n",
    "# Export plot to html. Remember to set show=False for plot1DMEs\n",
    "# plot(fig, filename=f\"./plots/PixelBarrelCharge-run{runnb}-ref{refrun}-normalized.html\")"
   ]
  },
  {
   "cell_type": "markdown",
   "id": "04a73263",
   "metadata": {},
   "source": [
    "### Heatmaps\n",
    "\n",
    "By \"stacking\" 1D histograms, we can create heatmaps which give us an idea of how the run evolved through time as data was being taken."
   ]
  },
  {
   "cell_type": "code",
   "execution_count": null,
   "id": "de6cb24e",
   "metadata": {},
   "outputs": [],
   "source": [
    "# Getting current run data\n",
    "runnb = 380238\n",
    "me__regex =  \"PixelPhase1/Tracks/PXBarrel/charge_PXLayer_.\" \n",
    "\n",
    "data1D = dials.h1d.list_all(\n",
    "    LumisectionHistogram1DFilters(\n",
    "        run_number = runnb,\n",
    "        dataset__regex = \"ZeroBias\",\n",
    "        me__regex = me__regex\n",
    "    ),\n",
    "    # max_pages=200\n",
    ").to_pandas()"
   ]
  },
  {
   "cell_type": "code",
   "execution_count": null,
   "id": "72d985e1",
   "metadata": {},
   "outputs": [],
   "source": [
    "# Getting trigger rate\n",
    "trig_rate = get_rate(oms_fetch, runnb, \"ZeroBias\", dataframe=False)"
   ]
  },
  {
   "cell_type": "code",
   "execution_count": null,
   "id": "c24df336",
   "metadata": {},
   "outputs": [],
   "source": [
    "ax_labels = [\n",
    "    dict(x = \"Charge(e)\", y = \"LS\")\n",
    "] * 4\n",
    "\n",
    "fig_title = f\"Pixel Barrel Charge Heatmaps Normalized by Trigger Rate (Run {runnb})\"\n",
    "\n",
    "fig = plotheatmaps1D(\n",
    "    data1D,\n",
    "    fig_title=fig_title,\n",
    "    ax_labels=ax_labels,\n",
    "    show=False,\n",
    "    trigger_rates = trig_rate,\n",
    "    # norm=True\n",
    ")\n",
    "\n",
    "fig.show()\n",
    "\n",
    "# Export plot to html\n",
    "# plot(fig, filename=f\"./plots/PixelBarrelChargeHeatmap-run{runnb}-trignorm.html\")"
   ]
  }
 ],
 "metadata": {
  "@webio": {
   "lastCommId": null,
   "lastKernelId": null
  },
  "kernelspec": {
   "display_name": "Python 3",
   "language": "python",
   "name": "python3"
  },
  "language_info": {
   "codemirror_mode": {
    "name": "ipython",
    "version": 3
   },
   "file_extension": ".py",
   "mimetype": "text/x-python",
   "name": "python",
   "nbconvert_exporter": "python",
   "pygments_lexer": "ipython3",
   "version": "3.11.7"
  }
 },
 "nbformat": 4,
 "nbformat_minor": 5
}
